{
 "cells": [
  {
   "cell_type": "code",
   "execution_count": 1,
   "id": "3a51b197",
   "metadata": {},
   "outputs": [],
   "source": [
    "import os\n",
    "import pandas as pd\n",
    "from datetime import datetime\n",
    "import time\n",
    "import math\n",
    "import numpy as np\n",
    "import networkx as nx\n",
    "import copy\n",
    "import random\n",
    "import matplotlib.pyplot as plt"
   ]
  },
  {
   "cell_type": "code",
   "execution_count": 2,
   "id": "c36166a1",
   "metadata": {},
   "outputs": [
    {
     "data": {
      "text/plain": [
       "'C:\\\\Users\\\\Vojta\\\\Desktop\\\\own\\\\university\\\\ing\\\\01\\\\madII_projects\\\\analysis'"
      ]
     },
     "execution_count": 2,
     "metadata": {},
     "output_type": "execute_result"
    }
   ],
   "source": [
    "os.getcwd()"
   ]
  },
  {
   "cell_type": "code",
   "execution_count": 118,
   "id": "17d1de8a",
   "metadata": {},
   "outputs": [],
   "source": [
    "name_of_file = 'ia-retweet-pol.edges'"
   ]
  },
  {
   "cell_type": "code",
   "execution_count": 3,
   "id": "eed99b48",
   "metadata": {},
   "outputs": [],
   "source": [
    "name_of_file = 'fb-messages.edges'"
   ]
  },
  {
   "cell_type": "code",
   "execution_count": 4,
   "id": "09e86a1a",
   "metadata": {},
   "outputs": [],
   "source": [
    "path_to_file = f'.\\\\ds\\\\{name_of_file}'"
   ]
  },
  {
   "cell_type": "code",
   "execution_count": 5,
   "id": "7ae1bc59",
   "metadata": {},
   "outputs": [
    {
     "name": "stdout",
     "output_type": "stream",
     "text": [
      "Requirement already satisfied: pandas in c:\\users\\vojta\\desktop\\own\\university\\ing\\01\\madii_projects\\analysis\\venv\\lib\\site-packages (1.2.4)\n",
      "Requirement already satisfied: numpy>=1.16.5 in c:\\users\\vojta\\desktop\\own\\university\\ing\\01\\madii_projects\\analysis\\venv\\lib\\site-packages (from pandas) (1.20.2)\n",
      "Requirement already satisfied: pytz>=2017.3 in c:\\users\\vojta\\desktop\\own\\university\\ing\\01\\madii_projects\\analysis\\venv\\lib\\site-packages (from pandas) (2021.1)\n",
      "Requirement already satisfied: python-dateutil>=2.7.3 in c:\\users\\vojta\\desktop\\own\\university\\ing\\01\\madii_projects\\analysis\\venv\\lib\\site-packages (from pandas) (2.8.1)\n",
      "Requirement already satisfied: six>=1.5 in c:\\users\\vojta\\desktop\\own\\university\\ing\\01\\madii_projects\\analysis\\venv\\lib\\site-packages (from python-dateutil>=2.7.3->pandas) (1.16.0)\n"
     ]
    },
    {
     "name": "stderr",
     "output_type": "stream",
     "text": [
      "WARNING: You are using pip version 19.2.3, however version 21.1.1 is available.\n",
      "You should consider upgrading via the 'python -m pip install --upgrade pip' command.\n"
     ]
    }
   ],
   "source": [
    "!pip install pandas"
   ]
  },
  {
   "cell_type": "code",
   "execution_count": 6,
   "id": "16998c24",
   "metadata": {},
   "outputs": [],
   "source": [
    "dataset = pd.read_csv(path_to_file, sep=',', header=None)"
   ]
  },
  {
   "cell_type": "code",
   "execution_count": 7,
   "id": "ddf8c016",
   "metadata": {},
   "outputs": [
    {
     "data": {
      "text/html": [
       "<div>\n",
       "<style scoped>\n",
       "    .dataframe tbody tr th:only-of-type {\n",
       "        vertical-align: middle;\n",
       "    }\n",
       "\n",
       "    .dataframe tbody tr th {\n",
       "        vertical-align: top;\n",
       "    }\n",
       "\n",
       "    .dataframe thead th {\n",
       "        text-align: right;\n",
       "    }\n",
       "</style>\n",
       "<table border=\"1\" class=\"dataframe\">\n",
       "  <thead>\n",
       "    <tr style=\"text-align: right;\">\n",
       "      <th></th>\n",
       "      <th>0</th>\n",
       "      <th>1</th>\n",
       "      <th>2</th>\n",
       "    </tr>\n",
       "  </thead>\n",
       "  <tbody>\n",
       "    <tr>\n",
       "      <th>0</th>\n",
       "      <td>730</td>\n",
       "      <td>730</td>\n",
       "      <td>1.080091e+09</td>\n",
       "    </tr>\n",
       "    <tr>\n",
       "      <th>1</th>\n",
       "      <td>563</td>\n",
       "      <td>563</td>\n",
       "      <td>1.080091e+09</td>\n",
       "    </tr>\n",
       "    <tr>\n",
       "      <th>2</th>\n",
       "      <td>674</td>\n",
       "      <td>674</td>\n",
       "      <td>1.080718e+09</td>\n",
       "    </tr>\n",
       "    <tr>\n",
       "      <th>3</th>\n",
       "      <td>571</td>\n",
       "      <td>571</td>\n",
       "      <td>1.081366e+09</td>\n",
       "    </tr>\n",
       "    <tr>\n",
       "      <th>4</th>\n",
       "      <td>667</td>\n",
       "      <td>667</td>\n",
       "      <td>1.082013e+09</td>\n",
       "    </tr>\n",
       "  </tbody>\n",
       "</table>\n",
       "</div>"
      ],
      "text/plain": [
       "     0    1             2\n",
       "0  730  730  1.080091e+09\n",
       "1  563  563  1.080091e+09\n",
       "2  674  674  1.080718e+09\n",
       "3  571  571  1.081366e+09\n",
       "4  667  667  1.082013e+09"
      ]
     },
     "execution_count": 7,
     "metadata": {},
     "output_type": "execute_result"
    }
   ],
   "source": [
    "dataset.head()"
   ]
  },
  {
   "cell_type": "code",
   "execution_count": 8,
   "id": "e96b0049",
   "metadata": {},
   "outputs": [],
   "source": [
    "dataset['converted_time'] = dataset.iloc[:, 2].apply(time.ctime)"
   ]
  },
  {
   "cell_type": "code",
   "execution_count": 9,
   "id": "05601936",
   "metadata": {},
   "outputs": [
    {
     "data": {
      "text/html": [
       "<div>\n",
       "<style scoped>\n",
       "    .dataframe tbody tr th:only-of-type {\n",
       "        vertical-align: middle;\n",
       "    }\n",
       "\n",
       "    .dataframe tbody tr th {\n",
       "        vertical-align: top;\n",
       "    }\n",
       "\n",
       "    .dataframe thead th {\n",
       "        text-align: right;\n",
       "    }\n",
       "</style>\n",
       "<table border=\"1\" class=\"dataframe\">\n",
       "  <thead>\n",
       "    <tr style=\"text-align: right;\">\n",
       "      <th></th>\n",
       "      <th>0</th>\n",
       "      <th>1</th>\n",
       "      <th>2</th>\n",
       "      <th>converted_time</th>\n",
       "    </tr>\n",
       "  </thead>\n",
       "  <tbody>\n",
       "    <tr>\n",
       "      <th>0</th>\n",
       "      <td>730</td>\n",
       "      <td>730</td>\n",
       "      <td>1.080091e+09</td>\n",
       "      <td>Wed Mar 24 02:11:55 2004</td>\n",
       "    </tr>\n",
       "    <tr>\n",
       "      <th>1</th>\n",
       "      <td>563</td>\n",
       "      <td>563</td>\n",
       "      <td>1.080091e+09</td>\n",
       "      <td>Wed Mar 24 02:12:20 2004</td>\n",
       "    </tr>\n",
       "    <tr>\n",
       "      <th>2</th>\n",
       "      <td>674</td>\n",
       "      <td>674</td>\n",
       "      <td>1.080718e+09</td>\n",
       "      <td>Wed Mar 31 09:20:04 2004</td>\n",
       "    </tr>\n",
       "    <tr>\n",
       "      <th>3</th>\n",
       "      <td>571</td>\n",
       "      <td>571</td>\n",
       "      <td>1.081366e+09</td>\n",
       "      <td>Wed Apr  7 21:33:48 2004</td>\n",
       "    </tr>\n",
       "    <tr>\n",
       "      <th>4</th>\n",
       "      <td>667</td>\n",
       "      <td>667</td>\n",
       "      <td>1.082013e+09</td>\n",
       "      <td>Thu Apr 15 09:08:31 2004</td>\n",
       "    </tr>\n",
       "  </tbody>\n",
       "</table>\n",
       "</div>"
      ],
      "text/plain": [
       "     0    1             2            converted_time\n",
       "0  730  730  1.080091e+09  Wed Mar 24 02:11:55 2004\n",
       "1  563  563  1.080091e+09  Wed Mar 24 02:12:20 2004\n",
       "2  674  674  1.080718e+09  Wed Mar 31 09:20:04 2004\n",
       "3  571  571  1.081366e+09  Wed Apr  7 21:33:48 2004\n",
       "4  667  667  1.082013e+09  Thu Apr 15 09:08:31 2004"
      ]
     },
     "execution_count": 9,
     "metadata": {},
     "output_type": "execute_result"
    }
   ],
   "source": [
    "dataset.head()"
   ]
  },
  {
   "cell_type": "code",
   "execution_count": null,
   "id": "d236c095",
   "metadata": {},
   "outputs": [],
   "source": []
  },
  {
   "cell_type": "code",
   "execution_count": 10,
   "id": "1842f075",
   "metadata": {},
   "outputs": [],
   "source": [
    "dataset = dataset.sort_values(by=2)"
   ]
  },
  {
   "cell_type": "code",
   "execution_count": 11,
   "id": "0cb9eb0c",
   "metadata": {},
   "outputs": [
    {
     "data": {
      "text/html": [
       "<div>\n",
       "<style scoped>\n",
       "    .dataframe tbody tr th:only-of-type {\n",
       "        vertical-align: middle;\n",
       "    }\n",
       "\n",
       "    .dataframe tbody tr th {\n",
       "        vertical-align: top;\n",
       "    }\n",
       "\n",
       "    .dataframe thead th {\n",
       "        text-align: right;\n",
       "    }\n",
       "</style>\n",
       "<table border=\"1\" class=\"dataframe\">\n",
       "  <thead>\n",
       "    <tr style=\"text-align: right;\">\n",
       "      <th></th>\n",
       "      <th>0</th>\n",
       "      <th>1</th>\n",
       "      <th>2</th>\n",
       "      <th>converted_time</th>\n",
       "    </tr>\n",
       "  </thead>\n",
       "  <tbody>\n",
       "    <tr>\n",
       "      <th>0</th>\n",
       "      <td>730</td>\n",
       "      <td>730</td>\n",
       "      <td>1.080091e+09</td>\n",
       "      <td>Wed Mar 24 02:11:55 2004</td>\n",
       "    </tr>\n",
       "    <tr>\n",
       "      <th>1</th>\n",
       "      <td>563</td>\n",
       "      <td>563</td>\n",
       "      <td>1.080091e+09</td>\n",
       "      <td>Wed Mar 24 02:12:20 2004</td>\n",
       "    </tr>\n",
       "    <tr>\n",
       "      <th>2</th>\n",
       "      <td>674</td>\n",
       "      <td>674</td>\n",
       "      <td>1.080718e+09</td>\n",
       "      <td>Wed Mar 31 09:20:04 2004</td>\n",
       "    </tr>\n",
       "    <tr>\n",
       "      <th>3</th>\n",
       "      <td>571</td>\n",
       "      <td>571</td>\n",
       "      <td>1.081366e+09</td>\n",
       "      <td>Wed Apr  7 21:33:48 2004</td>\n",
       "    </tr>\n",
       "    <tr>\n",
       "      <th>4</th>\n",
       "      <td>667</td>\n",
       "      <td>667</td>\n",
       "      <td>1.082013e+09</td>\n",
       "      <td>Thu Apr 15 09:08:31 2004</td>\n",
       "    </tr>\n",
       "  </tbody>\n",
       "</table>\n",
       "</div>"
      ],
      "text/plain": [
       "     0    1             2            converted_time\n",
       "0  730  730  1.080091e+09  Wed Mar 24 02:11:55 2004\n",
       "1  563  563  1.080091e+09  Wed Mar 24 02:12:20 2004\n",
       "2  674  674  1.080718e+09  Wed Mar 31 09:20:04 2004\n",
       "3  571  571  1.081366e+09  Wed Apr  7 21:33:48 2004\n",
       "4  667  667  1.082013e+09  Thu Apr 15 09:08:31 2004"
      ]
     },
     "execution_count": 11,
     "metadata": {},
     "output_type": "execute_result"
    }
   ],
   "source": [
    "dataset.head()"
   ]
  },
  {
   "cell_type": "code",
   "execution_count": 12,
   "id": "575a1373",
   "metadata": {},
   "outputs": [],
   "source": [
    "START_UNIX = 1.080091e+09"
   ]
  },
  {
   "cell_type": "code",
   "execution_count": 13,
   "id": "33a8c2da",
   "metadata": {},
   "outputs": [
    {
     "data": {
      "text/plain": [
       "'Wed Mar 24 02:11:55 2004'"
      ]
     },
     "execution_count": 13,
     "metadata": {},
     "output_type": "execute_result"
    }
   ],
   "source": [
    "first = dataset.iloc[0]\n",
    "first.converted_time"
   ]
  },
  {
   "cell_type": "code",
   "execution_count": 14,
   "id": "231f22be",
   "metadata": {},
   "outputs": [
    {
     "data": {
      "text/plain": [
       "'Tue Oct 26 07:52:22 2004'"
      ]
     },
     "execution_count": 14,
     "metadata": {},
     "output_type": "execute_result"
    }
   ],
   "source": [
    "last = dataset.iloc[-1]\n",
    "last.converted_time"
   ]
  },
  {
   "cell_type": "code",
   "execution_count": 15,
   "id": "a0e45bd7",
   "metadata": {},
   "outputs": [],
   "source": [
    "NUMBER_OF_LAYERS = 7"
   ]
  },
  {
   "cell_type": "code",
   "execution_count": 16,
   "id": "a7f3841b",
   "metadata": {},
   "outputs": [],
   "source": [
    "interval = last[2] - first[2]"
   ]
  },
  {
   "cell_type": "code",
   "execution_count": 17,
   "id": "19d6e0a2",
   "metadata": {},
   "outputs": [
    {
     "data": {
      "text/plain": [
       "18679227.0"
      ]
     },
     "execution_count": 17,
     "metadata": {},
     "output_type": "execute_result"
    }
   ],
   "source": [
    "interval"
   ]
  },
  {
   "cell_type": "code",
   "execution_count": 18,
   "id": "932efd1a",
   "metadata": {},
   "outputs": [],
   "source": [
    "size = math.ceil(interval / NUMBER_OF_LAYERS)"
   ]
  },
  {
   "cell_type": "code",
   "execution_count": 19,
   "id": "f7d65071",
   "metadata": {},
   "outputs": [
    {
     "data": {
      "text/plain": [
       "2668461"
      ]
     },
     "execution_count": 19,
     "metadata": {},
     "output_type": "execute_result"
    }
   ],
   "source": [
    "size"
   ]
  },
  {
   "cell_type": "code",
   "execution_count": 20,
   "id": "69ad0101",
   "metadata": {},
   "outputs": [
    {
     "data": {
      "text/plain": [
       "1088096383.0"
      ]
     },
     "execution_count": 20,
     "metadata": {},
     "output_type": "execute_result"
    }
   ],
   "source": [
    "START_UNIX + size * 3"
   ]
  },
  {
   "cell_type": "code",
   "execution_count": 21,
   "id": "f24cbe4d",
   "metadata": {},
   "outputs": [
    {
     "data": {
      "text/plain": [
       "1098769942.0"
      ]
     },
     "execution_count": 21,
     "metadata": {},
     "output_type": "execute_result"
    }
   ],
   "source": [
    "last[2]"
   ]
  },
  {
   "cell_type": "code",
   "execution_count": 22,
   "id": "32d44b2a",
   "metadata": {},
   "outputs": [],
   "source": [
    "def create_sub_df(step, index, last_end_index, data, last=False):\n",
    "    end_value = START_UNIX + index * step\n",
    "    time_values = data.iloc[:, 2].values\n",
    "\n",
    "    if last:\n",
    "        print('end')\n",
    "        f_i = int(last_end_index) #from index\n",
    "        sub_df = data.iloc[f_i:, :]\n",
    "        return sub_df, None\n",
    "        \n",
    "    \n",
    "    \n",
    "    find_value = end_value\n",
    "    v = None\n",
    "    while True:\n",
    "        v = np.argwhere(time_values == find_value).flatten()\n",
    "        \n",
    "        if(len(v) > 0):\n",
    "            print(v)\n",
    "            print('Found')\n",
    "            \n",
    "            break\n",
    "        find_value -= 1\n",
    "\n",
    "    f_i = int(last_end_index) #from index\n",
    "    t_i = int(v[-1] + 1) #to index \n",
    "\n",
    "    sub_df = data.iloc[f_i:t_i, :]\n",
    "    my_end_index = t_i\n",
    "    return sub_df, my_end_index"
   ]
  },
  {
   "cell_type": "code",
   "execution_count": 23,
   "id": "45650193",
   "metadata": {},
   "outputs": [
    {
     "name": "stdout",
     "output_type": "stream",
     "text": [
      "[734]\n",
      "Found\n",
      "[35360]\n",
      "Found\n",
      "[51515]\n",
      "Found\n",
      "[55306]\n",
      "Found\n",
      "[58116]\n",
      "Found\n",
      "[60561]\n",
      "Found\n",
      "end\n"
     ]
    }
   ],
   "source": [
    "sub_dfs = []\n",
    "last_end_index = 0\n",
    "for i in range(NUMBER_OF_LAYERS):\n",
    "    transformed_i = i + 1\n",
    "    sub_df, last_end_index = create_sub_df(size, transformed_i, last_end_index, dataset, transformed_i==NUMBER_OF_LAYERS)\n",
    "    sub_dfs.append(sub_df)"
   ]
  },
  {
   "cell_type": "code",
   "execution_count": 24,
   "id": "65f51f54",
   "metadata": {},
   "outputs": [
    {
     "data": {
      "text/plain": [
       "7"
      ]
     },
     "execution_count": 24,
     "metadata": {},
     "output_type": "execute_result"
    }
   ],
   "source": [
    "len(sub_dfs)"
   ]
  },
  {
   "cell_type": "markdown",
   "id": "13782afa",
   "metadata": {},
   "source": [
    "# Check len"
   ]
  },
  {
   "cell_type": "code",
   "execution_count": 25,
   "id": "883a16e3",
   "metadata": {},
   "outputs": [
    {
     "name": "stdout",
     "output_type": "stream",
     "text": [
      "DF0 - 735\n",
      "DF1 - 34626\n",
      "DF2 - 16155\n",
      "DF3 - 3791\n",
      "DF4 - 2810\n",
      "DF5 - 2445\n",
      "DF6 - 1172\n"
     ]
    }
   ],
   "source": [
    "for i in range(len(sub_dfs)):\n",
    "    sub_len = len(sub_dfs[i])\n",
    "    print(f'DF{i} - {sub_len}')"
   ]
  },
  {
   "cell_type": "code",
   "execution_count": 26,
   "id": "d0b42ca6",
   "metadata": {},
   "outputs": [
    {
     "data": {
      "text/plain": [
       "True"
      ]
     },
     "execution_count": 26,
     "metadata": {},
     "output_type": "execute_result"
    }
   ],
   "source": [
    "len(dataset) == np.sum([len(df) for df in sub_dfs]) #correct multilayer"
   ]
  },
  {
   "cell_type": "code",
   "execution_count": 27,
   "id": "a6189164",
   "metadata": {},
   "outputs": [],
   "source": [
    "def from_df_g(sub_df):\n",
    "    G = nx.from_pandas_edgelist(sub_df, 0, 1)\n",
    "    return G"
   ]
  },
  {
   "cell_type": "code",
   "execution_count": 28,
   "id": "9dd81f80",
   "metadata": {},
   "outputs": [],
   "source": [
    "#Gs without appended nodes\n",
    "Gs = []"
   ]
  },
  {
   "cell_type": "code",
   "execution_count": 29,
   "id": "882c78ae",
   "metadata": {},
   "outputs": [],
   "source": [
    "nodes_ids_1 = dataset.iloc[:, 0]\n",
    "nodes_ids_2 = dataset.iloc[:, 1]\n",
    "\n",
    "\n",
    "nodes_ids = np.unique(np.array(list(np.unique(nodes_ids_1)) +  list(np.unique(nodes_ids_2))))"
   ]
  },
  {
   "cell_type": "code",
   "execution_count": 30,
   "id": "fe7bbdc0",
   "metadata": {},
   "outputs": [],
   "source": [
    "for s_df in sub_dfs:\n",
    "    s_G = from_df_g(s_df)\n",
    "    Gs.append(s_G)"
   ]
  },
  {
   "cell_type": "code",
   "execution_count": 31,
   "id": "a0817f30",
   "metadata": {},
   "outputs": [],
   "source": [
    "Gs_appended = Gs.copy()"
   ]
  },
  {
   "cell_type": "code",
   "execution_count": 32,
   "id": "5012bb28",
   "metadata": {},
   "outputs": [],
   "source": [
    "#append not existing actors to Gs\n",
    "for current_G in Gs_appended:\n",
    "    current_nodes = current_G.nodes() \n",
    "    need_to_append = list(filter(lambda x: x not in current_nodes, nodes_ids)) \n",
    "\n",
    "    for node_to_append in need_to_append:\n",
    "        current_G.add_node(node_to_append)"
   ]
  },
  {
   "cell_type": "code",
   "execution_count": 33,
   "id": "ef4a9cca",
   "metadata": {},
   "outputs": [
    {
     "name": "stdout",
     "output_type": "stream",
     "text": [
      "1899\n"
     ]
    }
   ],
   "source": [
    "UNIQUE_NODES = (len(nodes_ids))\n",
    "print(UNIQUE_NODES)"
   ]
  },
  {
   "cell_type": "code",
   "execution_count": 34,
   "id": "5365d464",
   "metadata": {},
   "outputs": [
    {
     "name": "stdout",
     "output_type": "stream",
     "text": [
      "13293\n"
     ]
    }
   ],
   "source": [
    "Gs_len = np.sum([len(g.nodes()) for g in Gs])\n",
    "print(Gs_len)"
   ]
  },
  {
   "cell_type": "code",
   "execution_count": 35,
   "id": "b06aaa19",
   "metadata": {},
   "outputs": [
    {
     "name": "stdout",
     "output_type": "stream",
     "text": [
      "13293\n"
     ]
    }
   ],
   "source": [
    "Gs_len_appended = np.sum([len(g.nodes()) for g in Gs_appended]) \n",
    "print(Gs_len_appended)"
   ]
  },
  {
   "cell_type": "code",
   "execution_count": 36,
   "id": "430f250f",
   "metadata": {},
   "outputs": [],
   "source": [
    "labels = list(Gs[0].nodes())"
   ]
  },
  {
   "cell_type": "code",
   "execution_count": 37,
   "id": "dd4a61a1",
   "metadata": {},
   "outputs": [
    {
     "data": {
      "text/html": [
       "<div>\n",
       "<style scoped>\n",
       "    .dataframe tbody tr th:only-of-type {\n",
       "        vertical-align: middle;\n",
       "    }\n",
       "\n",
       "    .dataframe tbody tr th {\n",
       "        vertical-align: top;\n",
       "    }\n",
       "\n",
       "    .dataframe thead th {\n",
       "        text-align: right;\n",
       "    }\n",
       "</style>\n",
       "<table border=\"1\" class=\"dataframe\">\n",
       "  <thead>\n",
       "    <tr style=\"text-align: right;\">\n",
       "      <th></th>\n",
       "      <th>0</th>\n",
       "      <th>1</th>\n",
       "      <th>2</th>\n",
       "      <th>converted_time</th>\n",
       "    </tr>\n",
       "  </thead>\n",
       "  <tbody>\n",
       "    <tr>\n",
       "      <th>0</th>\n",
       "      <td>730</td>\n",
       "      <td>730</td>\n",
       "      <td>1.080091e+09</td>\n",
       "      <td>Wed Mar 24 02:11:55 2004</td>\n",
       "    </tr>\n",
       "    <tr>\n",
       "      <th>1</th>\n",
       "      <td>563</td>\n",
       "      <td>563</td>\n",
       "      <td>1.080091e+09</td>\n",
       "      <td>Wed Mar 24 02:12:20 2004</td>\n",
       "    </tr>\n",
       "    <tr>\n",
       "      <th>2</th>\n",
       "      <td>674</td>\n",
       "      <td>674</td>\n",
       "      <td>1.080718e+09</td>\n",
       "      <td>Wed Mar 31 09:20:04 2004</td>\n",
       "    </tr>\n",
       "    <tr>\n",
       "      <th>3</th>\n",
       "      <td>571</td>\n",
       "      <td>571</td>\n",
       "      <td>1.081366e+09</td>\n",
       "      <td>Wed Apr  7 21:33:48 2004</td>\n",
       "    </tr>\n",
       "    <tr>\n",
       "      <th>4</th>\n",
       "      <td>667</td>\n",
       "      <td>667</td>\n",
       "      <td>1.082013e+09</td>\n",
       "      <td>Thu Apr 15 09:08:31 2004</td>\n",
       "    </tr>\n",
       "    <tr>\n",
       "      <th>...</th>\n",
       "      <td>...</td>\n",
       "      <td>...</td>\n",
       "      <td>...</td>\n",
       "      <td>...</td>\n",
       "    </tr>\n",
       "    <tr>\n",
       "      <th>730</th>\n",
       "      <td>678</td>\n",
       "      <td>452</td>\n",
       "      <td>1.082756e+09</td>\n",
       "      <td>Fri Apr 23 23:38:40 2004</td>\n",
       "    </tr>\n",
       "    <tr>\n",
       "      <th>731</th>\n",
       "      <td>327</td>\n",
       "      <td>327</td>\n",
       "      <td>1.082756e+09</td>\n",
       "      <td>Fri Apr 23 23:39:39 2004</td>\n",
       "    </tr>\n",
       "    <tr>\n",
       "      <th>732</th>\n",
       "      <td>1270</td>\n",
       "      <td>399</td>\n",
       "      <td>1.082756e+09</td>\n",
       "      <td>Fri Apr 23 23:41:14 2004</td>\n",
       "    </tr>\n",
       "    <tr>\n",
       "      <th>733</th>\n",
       "      <td>1270</td>\n",
       "      <td>1483</td>\n",
       "      <td>1.082757e+09</td>\n",
       "      <td>Fri Apr 23 23:46:46 2004</td>\n",
       "    </tr>\n",
       "    <tr>\n",
       "      <th>734</th>\n",
       "      <td>815</td>\n",
       "      <td>815</td>\n",
       "      <td>1.082759e+09</td>\n",
       "      <td>Sat Apr 24 00:30:38 2004</td>\n",
       "    </tr>\n",
       "  </tbody>\n",
       "</table>\n",
       "<p>735 rows × 4 columns</p>\n",
       "</div>"
      ],
      "text/plain": [
       "        0     1             2            converted_time\n",
       "0     730   730  1.080091e+09  Wed Mar 24 02:11:55 2004\n",
       "1     563   563  1.080091e+09  Wed Mar 24 02:12:20 2004\n",
       "2     674   674  1.080718e+09  Wed Mar 31 09:20:04 2004\n",
       "3     571   571  1.081366e+09  Wed Apr  7 21:33:48 2004\n",
       "4     667   667  1.082013e+09  Thu Apr 15 09:08:31 2004\n",
       "..    ...   ...           ...                       ...\n",
       "730   678   452  1.082756e+09  Fri Apr 23 23:38:40 2004\n",
       "731   327   327  1.082756e+09  Fri Apr 23 23:39:39 2004\n",
       "732  1270   399  1.082756e+09  Fri Apr 23 23:41:14 2004\n",
       "733  1270  1483  1.082757e+09  Fri Apr 23 23:46:46 2004\n",
       "734   815   815  1.082759e+09  Sat Apr 24 00:30:38 2004\n",
       "\n",
       "[735 rows x 4 columns]"
      ]
     },
     "execution_count": 37,
     "metadata": {},
     "output_type": "execute_result"
    }
   ],
   "source": [
    "sub_dfs[0]"
   ]
  },
  {
   "cell_type": "code",
   "execution_count": 38,
   "id": "b1bf3fdf",
   "metadata": {},
   "outputs": [
    {
     "name": "stdout",
     "output_type": "stream",
     "text": [
      "Od Wed Mar 24 02:11:55 2004 - Do Sat Apr 24 00:30:38 2004\n",
      "Od Sat Apr 24 00:57:38 2004 - Do Mon May 24 21:44:12 2004\n",
      "Od Mon May 24 21:48:09 2004 - Do Thu Jun 24 18:43:14 2004\n",
      "Od Thu Jun 24 21:25:43 2004 - Do Sun Jul 25 15:52:25 2004\n",
      "Od Sun Jul 25 16:22:15 2004 - Do Wed Aug 25 13:23:15 2004\n",
      "Od Wed Aug 25 15:03:21 2004 - Do Sat Sep 25 10:18:52 2004\n",
      "Od Sat Sep 25 16:29:27 2004 - Do Tue Oct 26 07:52:22 2004\n"
     ]
    }
   ],
   "source": [
    "LAYER_LABELS = []\n",
    "\n",
    "for i in range(NUMBER_OF_LAYERS):\n",
    "    current_df = sub_dfs[i]\n",
    "    start = current_df.iloc[0]\n",
    "    end = current_df.iloc[-1]\n",
    "  \n",
    "\n",
    "    WORD_TITLE = f'Od {start.converted_time} - Do {end.converted_time}'\n",
    "    print(WORD_TITLE)\n",
    "    start_string = start.converted_time.replace(' ', '_').replace(':', '_')\n",
    "    end_string = end.converted_time.replace(' ', '_').replace(':', '_')\n",
    "    \n",
    "    \n",
    "    \n",
    "#    print(start_string)\n",
    " #   print(end_string)\n",
    "    layer_name = f'{start_string}---{end_string}'\n",
    "    LAYER_LABELS.append(layer_name)\n",
    "    \n"
   ]
  },
  {
   "cell_type": "code",
   "execution_count": 39,
   "id": "76b2372e",
   "metadata": {},
   "outputs": [
    {
     "data": {
      "text/plain": [
       "['Wed_Mar_24_02_11_55_2004---Sat_Apr_24_00_30_38_2004',\n",
       " 'Sat_Apr_24_00_57_38_2004---Mon_May_24_21_44_12_2004',\n",
       " 'Mon_May_24_21_48_09_2004---Thu_Jun_24_18_43_14_2004',\n",
       " 'Thu_Jun_24_21_25_43_2004---Sun_Jul_25_15_52_25_2004',\n",
       " 'Sun_Jul_25_16_22_15_2004---Wed_Aug_25_13_23_15_2004',\n",
       " 'Wed_Aug_25_15_03_21_2004---Sat_Sep_25_10_18_52_2004',\n",
       " 'Sat_Sep_25_16_29_27_2004---Tue_Oct_26_07_52_22_2004']"
      ]
     },
     "execution_count": 39,
     "metadata": {},
     "output_type": "execute_result"
    }
   ],
   "source": [
    "LAYER_LABELS"
   ]
  },
  {
   "cell_type": "markdown",
   "id": "b07126d4",
   "metadata": {},
   "source": [
    "# Save gephi"
   ]
  },
  {
   "cell_type": "code",
   "execution_count": 40,
   "id": "475c8089",
   "metadata": {},
   "outputs": [],
   "source": [
    "PATH_TO_GEPHI = f'outputs\\\\gephi\\\\'"
   ]
  },
  {
   "cell_type": "code",
   "execution_count": 41,
   "id": "d86d4bf9",
   "metadata": {},
   "outputs": [
    {
     "data": {
      "text/plain": [
       "'C:\\\\Users\\\\Vojta\\\\Desktop\\\\own\\\\university\\\\ing\\\\01\\\\madII_projects\\\\analysisoutputs\\\\gephi\\\\'"
      ]
     },
     "execution_count": 41,
     "metadata": {},
     "output_type": "execute_result"
    }
   ],
   "source": [
    "os.getcwd() + PATH_TO_GEPHI"
   ]
  },
  {
   "cell_type": "code",
   "execution_count": 42,
   "id": "b56d8ba3",
   "metadata": {},
   "outputs": [],
   "source": [
    "SAVE_GRAPHS = True"
   ]
  },
  {
   "cell_type": "code",
   "execution_count": 43,
   "id": "fb8510fc",
   "metadata": {},
   "outputs": [
    {
     "name": "stdout",
     "output_type": "stream",
     "text": [
      "outputs\\gephi\\GRAPH0_Wed_Mar_24_02_11_55_2004---Sat_Apr_24_00_30_38_2004.gexf\n",
      "outputs\\gephi\\GRAPH1_Sat_Apr_24_00_57_38_2004---Mon_May_24_21_44_12_2004.gexf\n",
      "outputs\\gephi\\GRAPH2_Mon_May_24_21_48_09_2004---Thu_Jun_24_18_43_14_2004.gexf\n",
      "outputs\\gephi\\GRAPH3_Thu_Jun_24_21_25_43_2004---Sun_Jul_25_15_52_25_2004.gexf\n",
      "outputs\\gephi\\GRAPH4_Sun_Jul_25_16_22_15_2004---Wed_Aug_25_13_23_15_2004.gexf\n",
      "outputs\\gephi\\GRAPH5_Wed_Aug_25_15_03_21_2004---Sat_Sep_25_10_18_52_2004.gexf\n",
      "outputs\\gephi\\GRAPH6_Sat_Sep_25_16_29_27_2004---Tue_Oct_26_07_52_22_2004.gexf\n"
     ]
    }
   ],
   "source": [
    "if SAVE_GRAPHS:\n",
    "    for i, G in enumerate(Gs):\n",
    "        name = LAYER_LABELS[i]\n",
    "        path = f'{PATH_TO_GEPHI}GRAPH{i}_{name}.gexf'\n",
    "        print(path)\n",
    "        nx.write_gexf(G, path)"
   ]
  },
  {
   "cell_type": "code",
   "execution_count": 124,
   "id": "a75b602d",
   "metadata": {},
   "outputs": [],
   "source": [
    "from enum import Enum\n",
    "class Properties(Enum):\n",
    "    V_L = 'Počet vrcholů' #\n",
    "    N_L = 'Počet hran' #\n",
    "    HUSTOTA = 'Hustota'\n",
    "    AVG_D = 'Průměrný stupeň' #\n",
    "    MAX_D = 'Maximální stupeň' #\n",
    "    DIS_D = 'Distribuce stupňů' #\n",
    "    AVG_COEF = 'Průměrný shlukovací koeficient' #\n",
    "    CC_L = 'Počet komponent souvislosti' #\n",
    "    DIST_CC = 'Distribuce velikostí komponent' #\n"
   ]
  },
  {
   "cell_type": "code",
   "execution_count": 125,
   "id": "9c5423d7",
   "metadata": {},
   "outputs": [],
   "source": [
    "from collections import Counter"
   ]
  },
  {
   "cell_type": "markdown",
   "id": "bc66d64d",
   "metadata": {},
   "source": [
    "# Analysis function"
   ]
  },
  {
   "cell_type": "code",
   "execution_count": 126,
   "id": "f4614c31",
   "metadata": {},
   "outputs": [],
   "source": [
    "def run_analysis(G):\n",
    "    result = {}\n",
    "    n = len(G.nodes())\n",
    "    m = len(G.edges())\n",
    "    \n",
    "    _, degress = zip(*G.degree())\n",
    "    c = Counter(degress)    \n",
    "    sorted_degress = dict(sorted(c.items(), key=lambda item: item[0]))\n",
    "    \n",
    "    cc = list(nx.connected_components(G))\n",
    "    len_cc = [len(c) for c in cc] \n",
    "    number_of_cc = len(cc)\n",
    "    \n",
    "    c1 = Counter(len_cc)\n",
    "    sorted_cc = dict(sorted(c1.items(), key=lambda item: item[0]))\n",
    "    \n",
    "    \n",
    "    result[Properties.V_L.value] = n\n",
    "    result[Properties.N_L.value] = m\n",
    "    #TODO hustota\n",
    "    result[Properties.AVG_D.value] = (2*m) / n\n",
    "    result[Properties.MAX_D.value] = np.max(degress)\n",
    "    result[Properties.DIS_D.value] = sorted_degress\n",
    "    \n",
    "    result[Properties.CC_L.value] = number_of_cc\n",
    "    result[Properties.DIST_CC.value] = sorted_cc\n",
    "    result[Properties.HUSTOTA.value] = (2*m) / (n*(n-1))\n",
    "    result[Properties.AVG_COEF.value] = nx.average_clustering(G)\n",
    "\n",
    "    return result\n",
    "    \n",
    "\n",
    "    \n",
    "    "
   ]
  },
  {
   "cell_type": "markdown",
   "id": "6d4e870a",
   "metadata": {},
   "source": [
    "# Run analysis for graphs"
   ]
  },
  {
   "cell_type": "code",
   "execution_count": 127,
   "id": "417f9669",
   "metadata": {
    "scrolled": true
   },
   "outputs": [],
   "source": [
    "analysis_dic = {}\n",
    "for i, g in enumerate(Gs):\n",
    "    analysis_dic[i] = run_analysis(g)"
   ]
  },
  {
   "cell_type": "markdown",
   "id": "e80dbd5a",
   "metadata": {},
   "source": [
    "# And save everything to file :-)"
   ]
  },
  {
   "cell_type": "code",
   "execution_count": 48,
   "id": "b408a81b",
   "metadata": {},
   "outputs": [],
   "source": [
    "def make_distribution_graph(distribution_input, name='', scatter=False):\n",
    "    x, y = zip(*distribution_input.items())\n",
    "    \n",
    "    \n",
    "    fig, ax = plt.subplots()\n",
    "    ax.set_ylabel('Frequency')\n",
    "    ax.set_xlabel('Size')\n",
    "    \n",
    "    ax.set_title(name)\n",
    "    ax.set_xlim(0-10, np.max(x)+10)\n",
    "    ax.set_ylim(0-10, np.max(y)+10)\n",
    "    ax.grid()\n",
    "    if scatter:\n",
    "\n",
    "        ax.scatter(x, y, c='r')   \n",
    "    else:   \n",
    "        ax.bar(x, y, color='r', width=2)\n",
    "    return fig, ax"
   ]
  },
  {
   "cell_type": "code",
   "execution_count": 49,
   "id": "a9377b08",
   "metadata": {},
   "outputs": [],
   "source": [
    "def create_analysis_df(analysis, i):\n",
    "    return pd.DataFrame.from_dict(analysis, orient='index', columns=['Strukturální vlastnosti'])"
   ]
  },
  {
   "cell_type": "code",
   "execution_count": 50,
   "id": "0fbcc673",
   "metadata": {},
   "outputs": [],
   "source": [
    "PATH_TO_EXCELS = f'outputs\\\\excels\\\\'"
   ]
  },
  {
   "cell_type": "code",
   "execution_count": 51,
   "id": "88f6924c",
   "metadata": {},
   "outputs": [],
   "source": [
    "PATH_TO_GRAPHS = f'outputs\\\\graphs\\\\'"
   ]
  },
  {
   "cell_type": "code",
   "execution_count": 52,
   "id": "848747d2",
   "metadata": {},
   "outputs": [],
   "source": [
    "def save_graphs(graphs, index):\n",
    "    graph_layer_folder = f'{PATH_TO_GRAPHS}{index}'\n",
    "    if not os.path.exists(graph_layer_folder):\n",
    "        os.makedirs(graph_layer_folder)\n",
    "        \n",
    "    for g_i, graph in enumerate(graphs):\n",
    "        fig_ax, name = graph\n",
    "        fig_ax[0].savefig(f'{graph_layer_folder}\\\\{name}.jpg') \n",
    "\n",
    "    "
   ]
  },
  {
   "cell_type": "code",
   "execution_count": 53,
   "id": "15844ca3",
   "metadata": {},
   "outputs": [],
   "source": [
    "def normalize(arra):\n",
    "    m = np.max(arra)\n",
    "    return [item/m for item in arra]\n",
    "    "
   ]
  },
  {
   "cell_type": "code",
   "execution_count": 54,
   "id": "f938f518",
   "metadata": {},
   "outputs": [
    {
     "data": {
      "text/plain": [
       "<matplotlib.collections.PathCollection at 0x17f9975e1c0>"
      ]
     },
     "execution_count": 54,
     "metadata": {},
     "output_type": "execute_result"
    },
    {
     "data": {
      "image/png": "[encoded data removed]",
      "text/plain": [
       "<Figure size 432x288 with 1 Axes>"
      ]
     },
     "metadata": {
      "needs_background": "light"
     },
     "output_type": "display_data"
    }
   ],
   "source": [
    "plt.scatter([1, 2, 3, 4, 5, 6, 7, 8, 15, 18, 34, 8142], [9469, 245, 52, 15, 9, 2, 3, 1, 1, 1, 1, 1])"
   ]
  },
  {
   "cell_type": "code",
   "execution_count": 55,
   "id": "0ae69568",
   "metadata": {},
   "outputs": [
    {
     "data": {
      "image/png": "[encoded data removed]",
      "text/plain": [
       "<Figure size 432x288 with 1 Axes>"
      ]
     },
     "metadata": {
      "needs_background": "light"
     },
     "output_type": "display_data"
    }
   ],
   "source": [
    "test = make_distribution_graph(analysis_dic[1][Properties.DIST_CC.value], '', True)"
   ]
  },
  {
   "cell_type": "code",
   "execution_count": 128,
   "id": "570a7fc5",
   "metadata": {},
   "outputs": [
    {
     "data": {
      "image/png": "[encoded data removed]",
      "text/plain": [
       "<Figure size 432x288 with 1 Axes>"
      ]
     },
     "metadata": {
      "needs_background": "light"
     },
     "output_type": "display_data"
    },
    {
     "data": {
      "image/png": "[encoded data removed]",
      "text/plain": [
       "<Figure size 432x288 with 1 Axes>"
      ]
     },
     "metadata": {
      "needs_background": "light"
     },
     "output_type": "display_data"
    },
    {
     "data": {
      "image/png": "[encoded data removed]",
      "text/plain": [
       "<Figure size 432x288 with 1 Axes>"
      ]
     },
     "metadata": {
      "needs_background": "light"
     },
     "output_type": "display_data"
    },
    {
     "data": {
      "image/png": "[encoded data removed]",
      "text/plain": [
       "<Figure size 432x288 with 1 Axes>"
      ]
     },
     "metadata": {
      "needs_background": "light"
     },
     "output_type": "display_data"
    },
    {
     "data": {
      "image/png": "[encoded data removed]",
      "text/plain": [
       "<Figure size 432x288 with 1 Axes>"
      ]
     },
     "metadata": {
      "needs_background": "light"
     },
     "output_type": "display_data"
    },
    {
     "data": {
      "image/png": "[encoded data removed]",
      "text/plain": [
       "<Figure size 432x288 with 1 Axes>"
      ]
     },
     "metadata": {
      "needs_background": "light"
     },
     "output_type": "display_data"
    },
    {
     "data": {
      "image/png": "[encoded data removed]",
      "text/plain": [
       "<Figure size 432x288 with 1 Axes>"
      ]
     },
     "metadata": {
      "needs_background": "light"
     },
     "output_type": "display_data"
    },
    {
     "data": {
      "image/png": "[encoded data removed]",
      "text/plain": [
       "<Figure size 432x288 with 1 Axes>"
      ]
     },
     "metadata": {
      "needs_background": "light"
     },
     "output_type": "display_data"
    },
    {
     "data": {
      "image/png": "[encoded data removed]",
      "text/plain": [
       "<Figure size 432x288 with 1 Axes>"
      ]
     },
     "metadata": {
      "needs_background": "light"
     },
     "output_type": "display_data"
    },
    {
     "data": {
      "image/png": "[encoded data removed]",
      "text/plain": [
       "<Figure size 432x288 with 1 Axes>"
      ]
     },
     "metadata": {
      "needs_background": "light"
     },
     "output_type": "display_data"
    },
    {
     "data": {
      "image/png": "[encoded data removed]",
      "text/plain": [
       "<Figure size 432x288 with 1 Axes>"
      ]
     },
     "metadata": {
      "needs_background": "light"
     },
     "output_type": "display_data"
    },
    {
     "data": {
      "image/png": "[encoded data removed]",
      "text/plain": [
       "<Figure size 432x288 with 1 Axes>"
      ]
     },
     "metadata": {
      "needs_background": "light"
     },
     "output_type": "display_data"
    },
    {
     "data": {
      "image/png": "[encoded data removed]",
      "text/plain": [
       "<Figure size 432x288 with 1 Axes>"
      ]
     },
     "metadata": {
      "needs_background": "light"
     },
     "output_type": "display_data"
    },
    {
     "data": {
      "image/png": "[encoded data removed]",
      "text/plain": [
       "<Figure size 432x288 with 1 Axes>"
      ]
     },
     "metadata": {
      "needs_background": "light"
     },
     "output_type": "display_data"
    }
   ],
   "source": [
    "dfs = []\n",
    "for k in analysis_dic.keys():\n",
    "    df = create_analysis_df(analysis_dic[k], k)\n",
    "    dist_degress = make_distribution_graph(analysis_dic[k][Properties.DIS_D.value], Properties.DIS_D.value)\n",
    "    dist_cc = make_distribution_graph(analysis_dic[k][Properties.DIST_CC.value], Properties.DIST_CC.value, True)\n",
    "    graphs = [(dist_degress, Properties.DIS_D.value), (dist_cc, Properties.DIST_CC.value)]\n",
    "    save_graphs(graphs, k)\n",
    "    dfs.append(df)\n",
    "    \n",
    "with pd.ExcelWriter(f'{PATH_TO_EXCELS}output.xlsx') as writer:  \n",
    "    for i, df in enumerate(dfs):\n",
    "        name = LAYER_LABELS[i]\n",
    "        df.to_excel(writer, sheet_name=name)"
   ]
  },
  {
   "cell_type": "code",
   "execution_count": 57,
   "id": "48498eec",
   "metadata": {},
   "outputs": [],
   "source": [
    "PATH_TO_TOGETHER_GRAPHS = f'{PATH_TO_GRAPHS}\\\\together'"
   ]
  },
  {
   "cell_type": "code",
   "execution_count": 58,
   "id": "22d8d119",
   "metadata": {},
   "outputs": [],
   "source": [
    "def get_cumulative(distribution_array):\n",
    "    sizes, times = zip(*distribution_array.items())\n",
    "    print(distribution_array)\n",
    "    suma = np.sum(times)\n",
    "    r_freq = [t/suma for t in times]\n",
    "    sizes = list(sizes) + [sizes[-1] + 1]\n",
    "    sizes = normalize(sizes)\n",
    "    \n",
    "    cum_freq = [0]\n",
    "    for f_i, f_v in enumerate(r_freq[0:len(r_freq)]):\n",
    "        cum_freq.append(cum_freq[f_i] + f_v)\n",
    "        \n",
    "    return sizes, cum_freq\n",
    "    \n",
    "    "
   ]
  },
  {
   "cell_type": "code",
   "execution_count": 59,
   "id": "9fe090ae",
   "metadata": {},
   "outputs": [],
   "source": [
    "#get_cumulative(analysis_dic[0][Properties.DIST_CC.value])"
   ]
  },
  {
   "cell_type": "code",
   "execution_count": 60,
   "id": "fb6fd5f0",
   "metadata": {},
   "outputs": [],
   "source": [
    "def make_cumulative_distribution(analysis, key, true_names=False, save=True):\n",
    "    fig, ax = plt.subplots()\n",
    "    graph_title = f'Kumulativni {str(key).lower()}'\n",
    "    ax.set_title(graph_title)\n",
    "    ax.set_ylabel('Relative frequency')\n",
    "    ax.set_xlabel('Normalized size')\n",
    "    \n",
    "    for k in analysis:\n",
    "        name = LAYER_LABELS[k] if true_names else f'{k}'\n",
    "        current_analysis = analysis[k]\n",
    "        distribution_values = current_analysis[key]\n",
    "        result = get_cumulative(distribution_values)\n",
    "        ax.plot(*result, label=name)\n",
    "        \n",
    "      \n",
    "    ax.legend()\n",
    "    if save:\n",
    "        fig.savefig(f'{PATH_TO_TOGETHER_GRAPHS}\\\\cumulative_freq_{str(key).lower()}.jpg') \n",
    "        \n",
    "    return fig, ax\n",
    "    \n",
    "    \n",
    "    "
   ]
  },
  {
   "cell_type": "code",
   "execution_count": 61,
   "id": "2ff5793c",
   "metadata": {},
   "outputs": [
    {
     "name": "stdout",
     "output_type": "stream",
     "text": [
      "{0: 1603, 2: 138, 3: 64, 4: 41, 5: 19, 6: 5, 7: 3, 8: 9, 9: 6, 10: 1, 12: 2, 15: 1, 16: 1, 17: 1, 22: 2, 24: 1, 31: 2}\n",
      "{0: 513, 1: 62, 2: 84, 3: 237, 4: 132, 5: 103, 6: 94, 7: 56, 8: 46, 9: 44, 10: 48, 11: 38, 12: 31, 13: 24, 14: 22, 15: 23, 16: 23, 17: 20, 18: 17, 19: 16, 20: 16, 21: 11, 22: 14, 23: 9, 24: 9, 25: 9, 26: 10, 27: 8, 28: 15, 29: 7, 30: 3, 31: 8, 32: 10, 33: 3, 34: 6, 35: 8, 36: 9, 37: 1, 38: 2, 39: 6, 40: 7, 41: 6, 42: 5, 43: 2, 44: 4, 45: 5, 46: 3, 47: 3, 48: 3, 49: 2, 50: 1, 51: 3, 52: 2, 54: 2, 55: 4, 56: 1, 58: 2, 59: 4, 60: 2, 62: 2, 63: 1, 64: 1, 65: 3, 66: 3, 67: 2, 68: 1, 71: 1, 72: 1, 73: 1, 74: 1, 76: 1, 82: 1, 84: 1, 88: 2, 89: 1, 90: 1, 92: 2, 97: 1, 105: 1, 109: 2, 111: 1, 118: 1, 119: 1, 133: 1, 134: 2, 140: 1, 146: 1, 150: 1, 214: 1, 216: 1}\n",
      "{0: 671, 1: 191, 2: 150, 3: 162, 4: 131, 5: 87, 6: 73, 7: 48, 8: 54, 9: 31, 10: 28, 11: 34, 12: 22, 13: 16, 14: 26, 15: 18, 16: 12, 17: 17, 18: 10, 19: 15, 20: 12, 21: 10, 22: 7, 23: 9, 24: 11, 25: 5, 26: 6, 27: 3, 28: 2, 29: 2, 30: 2, 31: 1, 32: 2, 33: 1, 34: 2, 35: 1, 36: 1, 37: 1, 38: 1, 39: 1, 43: 2, 45: 1, 46: 1, 48: 2, 49: 1, 50: 1, 52: 1, 54: 1, 58: 2, 59: 1, 60: 1, 65: 1, 68: 1, 70: 1, 71: 2, 83: 1, 86: 1, 87: 1, 95: 1}\n",
      "{0: 1318, 1: 255, 2: 98, 3: 61, 4: 40, 5: 25, 6: 27, 7: 14, 8: 12, 9: 8, 10: 11, 11: 3, 12: 6, 13: 1, 14: 2, 15: 2, 16: 3, 17: 2, 18: 2, 19: 1, 20: 1, 21: 1, 22: 1, 23: 1, 31: 1, 85: 1, 100: 2}\n",
      "{0: 1469, 1: 187, 2: 68, 3: 60, 4: 36, 5: 17, 6: 10, 7: 10, 8: 5, 9: 6, 10: 7, 11: 3, 12: 4, 13: 1, 14: 3, 15: 2, 16: 2, 17: 1, 19: 1, 22: 3, 25: 1, 26: 1, 56: 1, 57: 1}\n",
      "{0: 1470, 1: 214, 2: 68, 3: 63, 4: 24, 5: 12, 6: 7, 7: 12, 8: 4, 9: 3, 10: 8, 11: 1, 12: 1, 13: 2, 16: 1, 17: 2, 18: 2, 20: 1, 21: 1, 23: 1, 50: 1, 57: 1}\n",
      "{0: 1597, 1: 160, 2: 48, 3: 43, 4: 16, 5: 10, 6: 5, 7: 2, 8: 4, 9: 2, 10: 3, 11: 5, 13: 1, 27: 1, 28: 1, 38: 1}\n"
     ]
    },
    {
     "data": {
      "text/plain": [
       "(<Figure size 432x288 with 1 Axes>,\n",
       " <AxesSubplot:title={'center':'Kumulativni distribuce stupňů'}, xlabel='Normalized size', ylabel='Relative frequency'>)"
      ]
     },
     "execution_count": 61,
     "metadata": {},
     "output_type": "execute_result"
    },
    {
     "data": {
      "image/png": "[encoded data removed]",
      "text/plain": [
       "<Figure size 432x288 with 1 Axes>"
      ]
     },
     "metadata": {
      "needs_background": "light"
     },
     "output_type": "display_data"
    }
   ],
   "source": [
    "make_cumulative_distribution(analysis_dic, Properties.DIS_D.value)"
   ]
  },
  {
   "cell_type": "code",
   "execution_count": 62,
   "id": "3de3014a",
   "metadata": {},
   "outputs": [
    {
     "name": "stdout",
     "output_type": "stream",
     "text": [
      "{1: 1741, 2: 2, 4: 1, 150: 1}\n",
      "{1: 576, 2: 2, 1319: 1}\n",
      "{1: 702, 2: 5, 1187: 1}\n",
      "{1: 1326, 2: 8, 3: 3, 548: 1}\n",
      "{1: 1477, 2: 15, 3: 1, 4: 1, 385: 1}\n",
      "{1: 1475, 2: 11, 3: 2, 4: 1, 392: 1}\n",
      "{1: 1597, 2: 16, 3: 1, 4: 1, 263: 1}\n"
     ]
    },
    {
     "data": {
      "text/plain": [
       "(<Figure size 432x288 with 1 Axes>,\n",
       " <AxesSubplot:title={'center':'Kumulativni distribuce velikostí komponent'}, xlabel='Normalized size', ylabel='Relative frequency'>)"
      ]
     },
     "execution_count": 62,
     "metadata": {},
     "output_type": "execute_result"
    },
    {
     "data": {
      "image/png": "[encoded data removed]",
      "text/plain": [
       "<Figure size 432x288 with 1 Axes>"
      ]
     },
     "metadata": {
      "needs_background": "light"
     },
     "output_type": "display_data"
    }
   ],
   "source": [
    "make_cumulative_distribution(analysis_dic, Properties.DIST_CC.value)"
   ]
  },
  {
   "cell_type": "code",
   "execution_count": 63,
   "id": "9abd2b9c",
   "metadata": {},
   "outputs": [],
   "source": [
    "PATH_SAVE_MULTILAYER_PROPERTIES = f'outputs\\\\multilayer\\\\'"
   ]
  },
  {
   "cell_type": "code",
   "execution_count": 64,
   "id": "f6465dc3",
   "metadata": {},
   "outputs": [],
   "source": [
    "PATH_R_MULTINET_LIB_INPUT = f'outputs\\\\r\\\\'"
   ]
  },
  {
   "cell_type": "code",
   "execution_count": 65,
   "id": "7c04cdd5",
   "metadata": {},
   "outputs": [],
   "source": [
    "NUMBER_OF_STEPS = 10 #random walk\n",
    "NUMBER_OF_TIMES = 100 #random walk\n",
    "MOVE_TO_LAYER = -99 #idk :D"
   ]
  },
  {
   "cell_type": "code",
   "execution_count": 66,
   "id": "4cfc7d23",
   "metadata": {},
   "outputs": [],
   "source": [
    "class MultiLevelNet:\n",
    "    def __init__(self, matrix, actors, layers, layers_name = None, calculate=False, lab=8):\n",
    "        self.lab = lab\n",
    "        size = int(len(matrix) / layers)\n",
    "        self.number_of_layers = layers\n",
    "        self.multi_net = self.create_matrix(matrix, layers)\n",
    "        self.actors = actors\n",
    "        self.aindex2actor = {i:actors[i] for i in range(len(actors))}\n",
    "        self.layers_name = layers_name\n",
    "        self.calculate = calculate\n",
    "\n",
    "        if self.calculate:\n",
    "            print('Running calculate section')\n",
    "            self.df = self.calculate_res_dataframe()\n",
    "            #self.layer_df = self.calculate_layer_properties()\n",
    "            self.save_df(self.df, 'multilayer.csv')\n",
    "            #self.save_df(self.layer_df, 'layer.csv')\n",
    "\n",
    "    def calculate_layer_properties(self):\n",
    "        d_result = {}\n",
    "        for l in range(self.number_of_layers):\n",
    "            print(f'For layer {l} - num_actors:{len(self.actors)}')\n",
    "            l_n = self.layers_name[l]\n",
    "            l_res = {}\n",
    "            \n",
    "            \n",
    "            for i, a in enumerate(self.actors):\n",
    "                if i % 100 == 0:\n",
    "                    print(f'actor {i}')\n",
    "                l_a_d = self.degree_centrality(i, [l])\n",
    "                excl_neig = self.exclusive_neighborhood(i, [l])\n",
    "                excl_rel = self.exclusive_relevance(i, [l])\n",
    "                l_res[self.aindex2actor[i]] = {'Degree': round(l_a_d, 3), 'Exclu. Nei': round(excl_neig, 3), 'Exclu. Rele': round(excl_rel, 3)} \n",
    "        \n",
    "            d_result[l_n] = l_res\n",
    "\n",
    "\n",
    "        properties = ['Degree','Exclu. Nei','Exclu. Rele']\n",
    "        header = pd.MultiIndex.from_product([self.layers_name,\n",
    "                                            properties],\n",
    "                                            names=['Layer name','Property'])\n",
    "\n",
    "\n",
    "        columns=['Degree deviation', 'Degree', 'Neighbors', 'Connective redudancy']\n",
    "        data = np.zeros((len(self.actors), 3 * self.number_of_layers), dtype='float32')\n",
    "\n",
    "        for i, k_i in enumerate(d_result.keys()): #layers as key\n",
    "            for j, prop in enumerate(properties):\n",
    "                constructed_array = []\n",
    "                for _, k_j in enumerate(d_result[k_i].keys()): #actors as key\n",
    "                    value = d_result[k_i][k_j][prop]\n",
    "                    constructed_array.append(value)\n",
    "                position = i * len(properties) + j\n",
    "                data[:, position] = constructed_array    \n",
    "            \n",
    "        df = pd.DataFrame(data, columns=header, index=self.actors)\n",
    "        return df\n",
    "\n",
    "    def exclusive_relevance(self, actor, L):\n",
    "        nom = self.exclusive_neighborhood(actor, L)\n",
    "        den = self.neighborhood_centrality(actor,self.generate_all())\n",
    "        if den == 0:\n",
    "            return 0\n",
    "        return nom / den\n",
    "\n",
    "\n",
    "    def calculate_res_dataframe(self):\n",
    "        d_res = []\n",
    "        d_c_res = []\n",
    "        neighborhood_res = []\n",
    "        redudancy_res = []\n",
    "\n",
    "        for i, a in enumerate(self.actors):\n",
    "            if i % 100 == 0:\n",
    "                print(f'actor {i}')\n",
    "            L = list(range(self.number_of_layers))\n",
    "            d = self.degree_centrality(i, L)\n",
    "            d_c = self.degree_deviation(i, L)\n",
    "            neighborhood = self.neighborhood_centrality(i, L)\n",
    "            redudancy = self.connective_redundancy(i, L)            \n",
    "\n",
    "\n",
    "\n",
    "            d_res.append(d)\n",
    "            d_c_res.append(round(d_c, 3))\n",
    "            neighborhood_res.append(neighborhood)\n",
    "            redudancy_res.append(round(redudancy, 3))\n",
    "\n",
    "\n",
    "        columns=['Degree deviation', 'Degree', 'Neighbors', 'Connective redudancy']\n",
    "        df = pd.DataFrame({columns[0]: d_c_res, columns[1]: d_res, columns[2]: neighborhood_res, columns[3]: redudancy_res},index=self.actors)\n",
    "        return df\n",
    "\n",
    "    def save_df(self, df, name):\n",
    "        df.to_csv(f'{PATH_SAVE_MULTILAYER_PROPERTIES}{name}', sep=';')\n",
    "\n",
    "\n",
    "    def create_matrix(self, matrix, layers):\n",
    "        full_size = len(matrix)\n",
    "        layer_size = int(full_size / layers)\n",
    "        self.layer_size = layer_size \n",
    "\n",
    "        metricies = np.zeros((layer_size, layer_size, layers), dtype='uint8')    \n",
    "        for i in range(layers):            \n",
    "            f = layer_size*i\n",
    "            t = layer_size*(i+1)\n",
    "            layer_matrix = matrix[f:t]\n",
    "            metricies[:, :, i] = layer_matrix\n",
    "\n",
    "        if(not np.all(metricies[0, :, 0] == matrix[0, :])):\n",
    "            raise Exception(\"Preprocessing was not correct\")\n",
    "\n",
    "        return metricies\n",
    "\n",
    "    def degree_centrality(self, actor, L):\n",
    "        sum_matrix = np.sum(self.multi_net[:, :, L], axis=-1)\n",
    "        actor_vector = sum_matrix[actor, :]\n",
    "        degree = int(np.sum(actor_vector))\n",
    "        return degree\n",
    "\n",
    "    def degree_deviation(self, actor, L):\n",
    "        same = self.degree_centrality(actor, L) / len(L)\n",
    "        s = 0\n",
    "        for l in L:\n",
    "            l_c = self.degree_centrality(actor, [l])\n",
    "            # print(l_c)\n",
    "            calc = pow(l_c - same, 2)\n",
    "            s += calc\n",
    "        res = s / len(L) \n",
    "        return math.sqrt(res)\n",
    "\n",
    "    def generate_all(self):\n",
    "        return list(range(self.number_of_layers))\n",
    "\n",
    "    def neighbors(self, actor, L=None):\n",
    "        L = L\n",
    "        if L is None:\n",
    "            L = self.generate_all()\n",
    "\n",
    "        sum_matrix = np.sum(self.multi_net[:, :, L], axis=-1)\n",
    "        actor_vector = sum_matrix[actor, :]\n",
    "        neighbors = np.argwhere(actor_vector > 0)\n",
    "        return neighbors.flatten()\n",
    "\n",
    "    def neighborhood_centrality(self, actor, L):\n",
    "        return len(self.neighbors(actor, L))\n",
    "\n",
    "    def connective_redundancy(self, actor, L):\n",
    "        nom = self.neighborhood_centrality(actor, L)\n",
    "        den = self.degree_centrality(actor, L)\n",
    "        x = 0\n",
    "        if den != 0:\n",
    "            x = nom / den  \n",
    "        return 1 - x\n",
    "        \n",
    "    def exclusive_neighborhood(self, actor, L):\n",
    "        xneighborhood = 0\n",
    "        first = self.neighbors(actor, L)\n",
    "        al = set(self.generate_all())\n",
    "        i = set(L)\n",
    "        res = al.difference(i)\n",
    "        second = self.neighbors(actor, list(res))\n",
    "        xneighborhood = set(first).difference(set(second))\n",
    "        return len(list(xneighborhood))\n",
    "\n",
    "\n",
    "    def flattening(self):\n",
    "        flat_net = np.zeros((self.layer_size, self.layer_size), dtype='uint8')\n",
    "        for x in range(self.layer_size):\n",
    "            for y in range(self.layer_size):\n",
    "                res = np.sum(self.multi_net[x, y, :])                \n",
    "                flat_net[x, y] = 1 if res > 0 else 0\n",
    "        print(pd.DataFrame(flat_net))\n",
    "\n",
    "\n",
    "    def random_walk(self, v_start, l_start, all_layers, number_of_steps):\n",
    "        history = [] #((v, l), (v, l)) ((from), (to))\n",
    "        current_vertex = v_start #actor\n",
    "        current_layer = l_start\n",
    "\n",
    "\n",
    "     \n",
    "        for step in range(number_of_steps):\n",
    "\n",
    "            f = (current_vertex, current_layer)\n",
    "\n",
    "            n = list(self.neighbors(current_vertex, [current_layer]))\n",
    "            n.append(MOVE_TO_LAYER)\n",
    "            choice = random.choice(n)\n",
    "\n",
    "            if choice == MOVE_TO_LAYER:\n",
    "                rem_layers = list(filter(lambda x: x != current_layer, all_layers))\n",
    "                choice_layer = random.choice(rem_layers) \n",
    "                current_layer = choice_layer\n",
    "                # print('move to another layer')\n",
    "            else:\n",
    "                current_vertex = choice\n",
    "                # print('move to another vertex')\n",
    "            # print(n)\n",
    "\n",
    "            t = (current_vertex, current_layer)\n",
    "\n",
    "            history.append((f, t))\n",
    "        \n",
    "        return history\n",
    "\n",
    "\n",
    "    def resolve_ava_layers(self, actor_index):\n",
    "        return self.generate_all()\n",
    "\n",
    "\n",
    "    def occupation_centrality(self, walks, number_of_times = NUMBER_OF_TIMES):\n",
    "        occupation_centrality_res = {actor_i: 0 for actor_i in walks.keys()}        \n",
    "        for actor_i in walks.keys():\n",
    "            init_actor_walks = walks[actor_i]\n",
    "            for walk_history in init_actor_walks:\n",
    "                start = walk_history[0][0][0]\n",
    "                end = walk_history[-1][1][0]\n",
    "                occupation_centrality_res[end] += 1\n",
    "\n",
    "\n",
    "        calculated = {actor_i:(occupation_centrality_res[actor_i]/(number_of_times*len(list(walks.keys())))) for actor_i, times in occupation_centrality_res.items()}\n",
    "\n",
    "        return occupation_centrality_res, calculated\n",
    "\n",
    "\n",
    "    def make_random_walks(self, number_of_steps = NUMBER_OF_STEPS, number_of_times = NUMBER_OF_TIMES):\n",
    "        actors = list(range(len(self.actors)))\n",
    "        # actors = [0]\n",
    "        # print(actors)\n",
    "        walks = {}\n",
    "        for actor_index in actors:\n",
    "            walks[actor_index] = []\n",
    "            layers_to_start = self.resolve_ava_layers(actor_index)\n",
    "            for walk_index in range(number_of_times):\n",
    "                start_layer = random.choice(layers_to_start)\n",
    "                random_walk_history = self.random_walk(actor_index, start_layer, layers_to_start, number_of_steps)\n",
    "                walks[actor_index].append(random_walk_history)\n",
    "\n",
    "        return self.occupation_centrality(walks)\n",
    "\n",
    "\n",
    "    def save_net_for_r(self):\n",
    "        output = f\"#VERSION\\n3.0\\n#TYPE\\nmultiplex\\n#EDGES\"\n",
    "\n",
    "        for n_l in range(self.number_of_layers):\n",
    "            layer_name = self.layers_name[n_l]\n",
    "            for a_y_i, y in enumerate(self.multi_net[:, :, n_l]):\n",
    "                from_actor = self.aindex2actor[a_y_i]\n",
    "                for a_x_i, x in enumerate(y):\n",
    "                    if x == 1:\n",
    "                        to_actor = self.aindex2actor[a_x_i]\n",
    "                        output += f'\\n{from_actor},{to_actor},{layer_name}'\n",
    "\n",
    "        with open(f'{PATH_R_MULTINET_LIB_INPUT}multinet.mpx', 'w') as file:\n",
    "            file.write(output)\n",
    "        "
   ]
  },
  {
   "cell_type": "code",
   "execution_count": 67,
   "id": "8419f903",
   "metadata": {},
   "outputs": [
    {
     "name": "stdout",
     "output_type": "stream",
     "text": [
      "0\n",
      "2\n",
      "3\n",
      "4\n",
      "5\n",
      "6\n"
     ]
    }
   ],
   "source": [
    "matrix_all = None\n",
    "i = 0\n",
    "while i < (len(Gs)):\n",
    "    print(i)\n",
    "    if i == 0:\n",
    "        # 0  1\n",
    "        matrix_all = np.vstack((nx.to_numpy_matrix(Gs[i], dtype='uint8'), nx.to_numpy_matrix(Gs[i+1], dtype='uint8')))\n",
    "        i += 1\n",
    "    else:\n",
    "         matrix_all = np.vstack((matrix_all, nx.to_numpy_matrix(Gs[i], dtype=int)))\n",
    "        # x 2\n",
    "    i += 1"
   ]
  },
  {
   "cell_type": "code",
   "execution_count": 68,
   "id": "03002071",
   "metadata": {},
   "outputs": [],
   "source": [
    "LABELS = list(Gs[0].nodes()) #names of actors"
   ]
  },
  {
   "cell_type": "code",
   "execution_count": null,
   "id": "565a653d",
   "metadata": {},
   "outputs": [
    {
     "name": "stdout",
     "output_type": "stream",
     "text": [
      "Running calculate section\n",
      "actor 0\n",
      "actor 100\n",
      "actor 200\n",
      "actor 300\n",
      "actor 400\n",
      "actor 500\n",
      "actor 600\n",
      "actor 700\n",
      "actor 800\n",
      "actor 900\n"
     ]
    }
   ],
   "source": [
    "ml_net = MultiLevelNet(matrix_all, LABELS, NUMBER_OF_LAYERS, LAYER_LABELS, True)"
   ]
  },
  {
   "cell_type": "code",
   "execution_count": 71,
   "id": "f4a14eb5",
   "metadata": {},
   "outputs": [],
   "source": [
    "ml_net.save_net_for_r()"
   ]
  },
  {
   "cell_type": "code",
   "execution_count": 75,
   "id": "3ef4257f",
   "metadata": {},
   "outputs": [
    {
     "name": "stdout",
     "output_type": "stream",
     "text": [
      "0 \n",
      "1 \n",
      "2 \n"
     ]
    }
   ],
   "source": [
    "for i, g in enumerate(Gs):\n",
    "    print(i, g)"
   ]
  },
  {
   "cell_type": "markdown",
   "id": "c10d6b7f",
   "metadata": {},
   "source": [
    "# Prediction links"
   ]
  },
  {
   "cell_type": "code",
   "execution_count": 69,
   "id": "d56883e7",
   "metadata": {},
   "outputs": [],
   "source": [
    "\n",
    "IGNORE_ZERO = False\n",
    "VERBOSE = True\n",
    "\n",
    "\n",
    "STATIC_THRESHOLD = 0.2"
   ]
  },
  {
   "cell_type": "code",
   "execution_count": 70,
   "id": "07fedb53",
   "metadata": {},
   "outputs": [],
   "source": [
    "class Performace:\n",
    "    def __init__(self, title=\"\"):\n",
    "        pass\n",
    "        self.sensitivity = 0\n",
    "        self.specificity = 0\n",
    "        self.precision = 0\n",
    "        self.recall = 0\n",
    "        self.fallout = 0\n",
    "        self.accuracy = 0\n",
    "        self.title = title\n",
    "        self.time = 0\n",
    "        self.threshold = 0\n",
    "\n",
    "\n",
    "    def make_calculation(self, nom, den):\n",
    "        if den == 0:\n",
    "            return 0\n",
    "        return nom/den\n",
    "\n",
    "    def calc_sensitivity(self, true_pos, true_neg, false_pos, false_neg):\n",
    "        nom = true_pos\n",
    "        den = true_pos + false_neg\n",
    "        self.sensitivity = self.make_calculation(nom, den)\n",
    "\n",
    "    def calc_specificity(self, true_pos, true_neg, false_pos, false_neg):\n",
    "        nom = true_neg\n",
    "        den = false_pos + true_neg\n",
    "        self.specificity = self.make_calculation(nom, den)\n",
    "        \n",
    "    def calc_precision(self, true_pos, true_neg, false_pos, false_neg):\n",
    "        nom = true_pos\n",
    "        den = true_pos + false_pos\n",
    "        self.precision = self.make_calculation(nom, den)\n",
    "\n",
    "    def calc_recall(self, true_pos, true_neg, false_pos, false_neg):\n",
    "        nom = true_pos\n",
    "        den = true_pos + false_neg\n",
    "        self.recall = self.make_calculation(nom, den)\n",
    "\n",
    "    def calc_fallout(self, true_pos, true_neg, false_pos, false_neg):\n",
    "        nom = false_pos\n",
    "        den = false_pos + true_neg\n",
    "        self.fallout = self.make_calculation(nom, den)\n",
    "\n",
    "    def calc_accuracy(self, true_pos, true_neg, false_pos, false_neg):\n",
    "        nom = true_pos + true_neg\n",
    "        p = true_pos + false_pos\n",
    "        n = true_neg + false_neg\n",
    "        den = p + n\n",
    "        self.accuracy = self.make_calculation(nom, den)\n",
    "\n",
    "    def calculate(self, tuple_confusion_matrix):\n",
    "        self.calc_sensitivity(*tuple_confusion_matrix)\n",
    "        self.calc_specificity(*tuple_confusion_matrix)\n",
    "        self.calc_precision(*tuple_confusion_matrix)\n",
    "        self.calc_recall(*tuple_confusion_matrix)\n",
    "        self.calc_fallout(*tuple_confusion_matrix)\n",
    "        self.calc_accuracy(*tuple_confusion_matrix)\n",
    "\n",
    "    def get_dictionary(self):\n",
    "        dic = {}\n",
    "        dic['Sensitivity'] = self.sensitivity\n",
    "        dic['Specificity'] = self.specificity\n",
    "        dic['Precision'] = self.precision\n",
    "        dic['Recall'] = self.recall\n",
    "        dic['Fallout'] = self.fallout\n",
    "        dic['Accuracy'] = self.accuracy\n",
    "        dic['Time'] = self.time\n",
    "        dic['Threshold'] = self.threshold\n",
    "        return dic\n",
    "\n",
    "    def __str__(self):\n",
    "        res = f\"{self.title.upper()}\\n\\n\"\n",
    "        res += f'\\tSensitivity:{self.sensitivity}\\n'\n",
    "        res += f'\\tSpecificity:{self.specificity}\\n'\n",
    "        res += f'\\tPrecision:{self.precision}\\n'\n",
    "        res += f'\\tRecall:{self.recall}\\n'\n",
    "        res += f'\\tFallout:{self.fallout}\\n'\n",
    "        res += f'\\tAccuracy:{self.accuracy}\\n'\n",
    "        return res\n",
    "\n",
    "        \n",
    "\n",
    "\n"
   ]
  },
  {
   "cell_type": "code",
   "execution_count": 71,
   "id": "58033370",
   "metadata": {},
   "outputs": [],
   "source": [
    "from enum import Enum\n",
    "import numpy as np\n",
    "import math\n",
    "\n",
    "\n",
    "class PrediLink(Enum):\n",
    "    AdamicAdar = \"AdamicAdar\"\n",
    "    ResourceAllocationIndex = \"ResourceAllocationIndex\"\n",
    "    CosineSimilarity = 'CosineSimilarity'\n",
    "    SorensenIndex =  \"SorensenIndex\"\n",
    "    CARBasedCommonNeighborIndex = 'CARBasedCommonNeighborIndex' \n",
    "    CommonNeighbors = 'CommonNeighbors'\n",
    "    JaccardCoefficient = 'JaccardCoefficient'\n",
    "    PreferentialAttachment = 'PreferentialAttachment'  \n",
    "\n",
    "\n",
    "\n",
    "def create_matrix_deps_on_method(matrix, method):\n",
    "    \"\"\"Creates matrix according to predict link method\n",
    "    \"\"\"\n",
    "    result_A = np.zeros(shape=matrix.shape, dtype=\"float32\")\n",
    "    for y in range(result_A.shape[0]):\n",
    "        y_vertex = matrix[y, :]\n",
    "        for x in range(y+1,result_A.shape[1]):\n",
    "            if y == x:\n",
    "                continue\n",
    "            x_vertex = matrix[x, :]\n",
    "            res = method(y_vertex, x_vertex, matrix)\n",
    "            result_A[y, x] = res\n",
    "    return result_A\n",
    "\n",
    "\n",
    "\n",
    "def adamic_adar_matrix(matrix):\n",
    "    return create_matrix_deps_on_method(matrix, adamic_adar_calc)\n",
    "\n",
    "def resource_allocation_index_matrix(matrix):\n",
    "    return create_matrix_deps_on_method(matrix, resource_allocation_index_calc)\n",
    "\n",
    "def cosine_similarity_matrix(matrix):\n",
    "    return create_matrix_deps_on_method(matrix, cosine_similarity_calc)\n",
    "\n",
    "def sorensen_index_matrix(matrix):\n",
    "    return create_matrix_deps_on_method(matrix, sorensen_index_calc)\n",
    "\n",
    "def car_based_common_neighbor_index_matrix(matrix):\n",
    "    return create_matrix_deps_on_method(matrix, car_based_common_neighbor_index_calc)\n",
    "\n",
    "\n",
    "def common_neighbors_matrix(matrix):\n",
    "    return create_matrix_deps_on_method(matrix, cn_calc)\n",
    "\n",
    "def preferential_attachment_matrix(matrix):\n",
    "    return create_matrix_deps_on_method(matrix, prefa_calc)\n",
    "\n",
    "def jaccard_matrix(matrix):\n",
    "    return create_matrix_deps_on_method(matrix, jaccard_calc)\n",
    "\n",
    "\n",
    "def adamic_adar_calc(y, x, matrix):\n",
    "    \"\"\"Suma through 1/log(z) intersect of neighbors(set(z)) x, y.\n",
    "    \"\"\"\n",
    "    edges_y = np.where(y > 0)\n",
    "    edges_x = np.where(x > 0)\n",
    "    set_y = set(np.array(edges_y).flatten()) \n",
    "    set_x = set(np.array(edges_x).flatten())\n",
    "    intersect = set_y.intersection(set_x)\n",
    "    suma = 0\n",
    "    for e_z in intersect:\n",
    "        vertex_z = matrix[e_z, :]\n",
    "        k_z = len(np.where(np.array(vertex_z) > 0))\n",
    "        suma += 1 / (math.log(k_z))\n",
    "    return suma\n",
    "\n",
    "def resource_allocation_index_calc(y, x, matrix):\n",
    "    \"\"\"It highly penalizes higer degree nodes.\n",
    "    \"\"\"\n",
    "    edges_y = np.where(y > 0)\n",
    "    edges_x = np.where(x > 0)\n",
    "    set_y = set(np.array(edges_y).flatten()) \n",
    "    set_x = set(np.array(edges_x).flatten())\n",
    "    intersect = set_y.intersection(set_x)\n",
    "    suma = 0\n",
    "    for e_z in intersect:\n",
    "        vertex_z = matrix[e_z, :]\n",
    "        k_z = len(np.where(np.array(vertex_z) > 0))\n",
    "        suma += 1 / k_z\n",
    "    return suma\n",
    "\n",
    "\n",
    "def cosine_similarity_calc(y, x, matrix):\n",
    "    edges_y = np.where(y > 0)\n",
    "    edges_x = np.where(x > 0)\n",
    "    set_y = set(np.array(edges_y).flatten()) \n",
    "    set_x = set(np.array(edges_x).flatten())\n",
    "    intersect = set_y.intersection(set_x)\n",
    "    nom = len(intersect)\n",
    "    k_x = len(edges_x)\n",
    "    k_y = len(edges_y)\n",
    "    den = math.sqrt(k_x*k_y)\n",
    "    if den == 0:\n",
    "        return 0\n",
    "    else:\n",
    "        return nom / den\n",
    "\n",
    "def sorensen_index_calc(y, x, matrix):\n",
    "    edges_y = np.where(y > 0)\n",
    "    edges_x = np.where(x > 0)\n",
    "    set_y = set(np.array(edges_y).flatten()) \n",
    "    set_x = set(np.array(edges_x).flatten())\n",
    "    intersect = set_y.intersection(set_x)\n",
    "    nom = len(intersect)\n",
    "    k_x = len(edges_x)\n",
    "    k_y = len(edges_y)  \n",
    "    nom = 2 * nom\n",
    "    den = k_x + k_y\n",
    "\n",
    "    if den == 0:\n",
    "        return 0\n",
    "    else:\n",
    "        return nom / den \n",
    "\n",
    "def car_based_common_neighbor_index_calc(y, x, matrix):\n",
    "    CN_part = cn_calc(y, x)\n",
    "\n",
    "    edges_y = np.where(y > 0)\n",
    "    edges_x = np.where(x > 0)\n",
    "    set_y = set(np.array(edges_y).flatten()) \n",
    "    set_x = set(np.array(edges_x).flatten())\n",
    "    intersect = set_y.intersection(set_x)   \n",
    "    suma = 0\n",
    "    for z in intersect:\n",
    "        vertex_z = matrix[z, :]\n",
    "        n_z = np.where(np.array(vertex_z) > 0)\n",
    "        set_n_z = set(n_z)\n",
    "        y_z = set_n_z.intersection(intersect)\n",
    "        suma += len(y_z) / 2\n",
    "    return CN_part * suma\n",
    "\n",
    "\n",
    "\n",
    "def cn_calc(y, x, matrix):\n",
    "    edges_y = np.where(y > 0)\n",
    "    edges_x = np.where(x > 0)\n",
    "    set_y = set(np.array(edges_y).flatten()) \n",
    "    set_x = set(np.array(edges_x).flatten())\n",
    "    intersect = set_y.intersection(set_x)\n",
    "    same = len(intersect)\n",
    "    return same\n",
    "\n",
    "def prefa_calc(y, x, matrix):\n",
    "    k_y_w = np.argwhere(y > 0).flatten()\n",
    "    k_x_w = np.argwhere(x > 0).flatten()\n",
    "    k_y = len(k_y_w)\n",
    "    k_x = len(k_x_w)\n",
    "    return k_y * k_x\n",
    "\n",
    "def jaccard_calc(y, x, matrix):\n",
    "    edges_y = np.where(y > 0)\n",
    "    edges_x = np.where(x > 0)\n",
    "    set_y = set(np.array(edges_y).flatten()) \n",
    "    set_x = set(np.array(edges_x).flatten()) \n",
    "    intersect = set_y.intersection(set_x)\n",
    "    unioned = set_y.union(set_x)\n",
    "    nom = len(intersect)\n",
    "    den = len(unioned)\n",
    "    if den == 0:\n",
    "        return 0\n",
    "    return nom/den\n",
    "\n",
    "def apply_threshold(matrix, threshold):\n",
    "    thresholded_matrix = np.copy(matrix)\n",
    "    res = np.where(thresholded_matrix > threshold, 1, 0)\n",
    "    return res\n",
    "\n",
    "def create_confusion_tuple(matrix, m_matrix, predicted_matrix, t):\n",
    "    true_positive = 0\n",
    "    true_negative = 0\n",
    "    false_positive = 0\n",
    "    false_negative = 0\n",
    "\n",
    "    for y in range(matrix.shape[0]):\n",
    "        for x in range(y+1, matrix.shape[1]):\n",
    "            available_value = matrix[y, x]\n",
    "            predicted_value = m_matrix[y, x]\n",
    "\n",
    "            if IGNORE_ZERO and predicted_matrix is not None and predicted_matrix[y, x] == 0:\n",
    "                continue\n",
    "\n",
    "            if available_value == True and predicted_value == True:\n",
    "                true_positive += 1\n",
    "\n",
    "            if available_value == False and predicted_value == False:\n",
    "                true_negative += 1\n",
    "\n",
    "            if available_value == False and predicted_value == True:\n",
    "                false_positive += 1\n",
    "\n",
    "            if available_value == True and predicted_value == False:\n",
    "                false_negative += 1\n",
    "\n",
    "    res = (true_positive, true_negative, false_positive, false_negative)\n",
    "\n",
    "    if VERBOSE:\n",
    "        print(f'{t}\\n\\n\\n\\tTrue positive {true_positive}\\n\\tTrue negative {true_negative}\\n\\tFalse positive {false_positive}\\n\\tFalse negative {false_negative}\\n')\n",
    "    return res\n",
    "\n",
    "\n",
    "\n",
    "    \n",
    "#TODO: make all methods\n",
    "prediction_link_dictionary = {\n",
    "    PrediLink.AdamicAdar: adamic_adar_matrix, #TODO\n",
    "    PrediLink.ResourceAllocationIndex: resource_allocation_index_matrix,\n",
    "    PrediLink.CosineSimilarity: cosine_similarity_matrix,\n",
    "    PrediLink.SorensenIndex: sorensen_index_matrix,\n",
    "    PrediLink.CARBasedCommonNeighborIndex: car_based_common_neighbor_index_matrix,\n",
    "    PrediLink.CommonNeighbors: common_neighbors_matrix,\n",
    "    PrediLink.JaccardCoefficient: jaccard_matrix,\n",
    "    PrediLink.PreferentialAttachment: preferential_attachment_matrix,\n",
    "}"
   ]
  },
  {
   "cell_type": "code",
   "execution_count": 87,
   "id": "a264eb28",
   "metadata": {},
   "outputs": [],
   "source": [
    "import pandas as pd\n",
    "import networkx as nx\n",
    "import time\n",
    "\n",
    "class Controller:\n",
    "    def __init__(self):\n",
    "        pass\n",
    "    \n",
    "    def set_adj_A(self, g):\n",
    "        self.adj_A = nx.to_numpy_matrix(g, dtype='uint8')\n",
    "\n",
    "        \n",
    "    def run_prediction(self, index, threshold=STATIC_THRESHOLD):\n",
    "        print('Start prediction')\n",
    "        predictions = {}\n",
    "        methods = list(prediction_link_dictionary.values())\n",
    "        methods_name = list(prediction_link_dictionary.keys())\n",
    "\n",
    "        method_name = methods_name[index].value\n",
    "        selected_method = methods[index]\n",
    "\n",
    "        prediction_results = self.make_calculation(self.adj_A, selected_method, threshold, method_name)\n",
    "        prediction_results[1].threshold = threshold\n",
    "\n",
    "        predictions[method_name] = prediction_results\n",
    "        print('End prediction')\n",
    "        return predictions\n",
    "\n",
    "\n",
    "\n",
    "    def make_calculation(self, matrix, method, threshold=STATIC_THRESHOLD, method_type=\"\"):\n",
    "        start = time.time()\n",
    "        matrix_method = method(matrix)\n",
    "        matrix_method_thresholded = apply_threshold(matrix_method, threshold)\n",
    "        title = f\"{method_type}\"\n",
    "        calculated_tuple = create_confusion_tuple(matrix, matrix_method_thresholded, matrix_method, title)\n",
    "        perf = Performace(title)\n",
    "        perf.calculate(calculated_tuple)\n",
    "        end = time.time()\n",
    "        perf.time = end - start\n",
    "        return calculated_tuple, perf\n",
    "\n",
    "    def make_step_analysis(self, f, to, step, method_index):\n",
    "        print('Starting step analysis')\n",
    "        predictions = {}\n",
    "\n",
    "        methods = list(prediction_link_dictionary.values())\n",
    "        methods_name = list(prediction_link_dictionary.keys())\n",
    "\n",
    "        method_name = methods_name[method_index].value\n",
    "        selected_method = methods[method_index]\n",
    "\n",
    "        \n",
    "        matrix = self.adj_A\n",
    "        matrix_method = selected_method(matrix)\n",
    "        print('Matrix calculated')\n",
    "        \n",
    "        \n",
    "        i = f\n",
    "        while i < to:\n",
    "            print(f'Threshold {i}')\n",
    "            thresh = i\n",
    "            matrix_method_thresholded = apply_threshold(matrix_method, thresh)\n",
    "            title = f\"{method_name}\"\n",
    "            calculated_tuple = create_confusion_tuple(matrix, matrix_method_thresholded, matrix_method, title)\n",
    "            perf = Performace(title)\n",
    "            perf.calculate(calculated_tuple)\n",
    "            prediction_results = (calculated_tuple, perf)\n",
    "            prediction_results[1].threshold = i\n",
    "            predictions[i] = prediction_results\n",
    "            i+=step\n",
    "            \n",
    "        return predictions\n",
    "\n"
   ]
  },
  {
   "cell_type": "code",
   "execution_count": 80,
   "id": "421c1893",
   "metadata": {},
   "outputs": [
    {
     "name": "stdout",
     "output_type": "stream",
     "text": [
      "[<PrediLink.AdamicAdar: 'AdamicAdar'>, <PrediLink.ResourceAllocationIndex: 'ResourceAllocationIndex'>, <PrediLink.CosineSimilarity: 'CosineSimilarity'>, <PrediLink.SorensenIndex: 'SorensenIndex'>, <PrediLink.CARBasedCommonNeighborIndex: 'CARBasedCommonNeighborIndex'>, <PrediLink.CommonNeighbors: 'CommonNeighbors'>, <PrediLink.JaccardCoefficient: 'JaccardCoefficient'>, <PrediLink.PreferentialAttachment: 'PreferentialAttachment'>]\n",
      "Index=0 method=PrediLink.AdamicAdar\n",
      "Index=1 method=PrediLink.ResourceAllocationIndex\n",
      "Index=2 method=PrediLink.CosineSimilarity\n",
      "Index=3 method=PrediLink.SorensenIndex\n",
      "Index=4 method=PrediLink.CARBasedCommonNeighborIndex\n",
      "Index=5 method=PrediLink.CommonNeighbors\n",
      "Index=6 method=PrediLink.JaccardCoefficient\n",
      "Index=7 method=PrediLink.PreferentialAttachment\n"
     ]
    }
   ],
   "source": [
    "met = list(prediction_link_dictionary.keys())\n",
    "print(met)\n",
    "for i in range(len(met)):\n",
    "    print(f'Index={i} method={met[i]}')"
   ]
  },
  {
   "cell_type": "code",
   "execution_count": 88,
   "id": "b85da161",
   "metadata": {},
   "outputs": [],
   "source": [
    "c = Controller()\n",
    "c.set_adj_A(Gs[0])"
   ]
  },
  {
   "cell_type": "code",
   "execution_count": 119,
   "id": "f1dd934b",
   "metadata": {},
   "outputs": [],
   "source": [
    "METHOD_INDEX = 2\n",
    "THRESHOLD = 5\n",
    "\n",
    "METHOD_NAME = met[METHOD_INDEX].value"
   ]
  },
  {
   "cell_type": "code",
   "execution_count": 120,
   "id": "2ea476c5",
   "metadata": {},
   "outputs": [
    {
     "data": {
      "text/plain": [
       "'CosineSimilarity'"
      ]
     },
     "execution_count": 120,
     "metadata": {},
     "output_type": "execute_result"
    }
   ],
   "source": [
    "METHOD_NAME"
   ]
  },
  {
   "cell_type": "code",
   "execution_count": 121,
   "id": "816773b6",
   "metadata": {},
   "outputs": [],
   "source": [
    "#pred = c.run_prediction(METHOD_INDEX, THRESHOLD)"
   ]
  },
  {
   "cell_type": "code",
   "execution_count": 122,
   "id": "d748fb64",
   "metadata": {},
   "outputs": [],
   "source": [
    "THRESHOLD_FROM = 1\n",
    "THRESHOLD_TO = 10\n",
    "THRESHOLD_STEP = 0.5"
   ]
  },
  {
   "cell_type": "code",
   "execution_count": 123,
   "id": "ee5e3ea8",
   "metadata": {},
   "outputs": [
    {
     "name": "stdout",
     "output_type": "stream",
     "text": [
      "Starting step analysis\n",
      "Matrix calculated\n",
      "Threshold 1\n",
      "CosineSimilarity\n",
      "\n",
      "\n",
      "\tTrue positive 258\n",
      "\tTrue negative 1801655\n",
      "\tFalse positive 234\n",
      "\tFalse negative 4\n",
      "\n",
      "Threshold 1.5\n",
      "CosineSimilarity\n",
      "\n",
      "\n",
      "\tTrue positive 37\n",
      "\tTrue negative 1801827\n",
      "\tFalse positive 62\n",
      "\tFalse negative 225\n",
      "\n",
      "Threshold 2.0\n",
      "CosineSimilarity\n",
      "\n",
      "\n",
      "\tTrue positive 9\n",
      "\tTrue negative 1801873\n",
      "\tFalse positive 16\n",
      "\tFalse negative 253\n",
      "\n",
      "Threshold 2.5\n",
      "CosineSimilarity\n",
      "\n",
      "\n",
      "\tTrue positive 5\n",
      "\tTrue negative 1801881\n",
      "\tFalse positive 8\n",
      "\tFalse negative 257\n",
      "\n",
      "Threshold 3.0\n"
     ]
    },
    {
     "ename": "KeyboardInterrupt",
     "evalue": "",
     "output_type": "error",
     "traceback": [
      "\u001b[1;31m---------------------------------------------------------------------------\u001b[0m",
      "\u001b[1;31mKeyboardInterrupt\u001b[0m                         Traceback (most recent call last)",
      "\u001b[1;32m<ipython-input-123-aea6b03e58fd>\u001b[0m in \u001b[0;36m<module>\u001b[1;34m\u001b[0m\n\u001b[1;32m----> 1\u001b[1;33m \u001b[0mpred\u001b[0m \u001b[1;33m=\u001b[0m \u001b[0mc\u001b[0m\u001b[1;33m.\u001b[0m\u001b[0mmake_step_analysis\u001b[0m\u001b[1;33m(\u001b[0m\u001b[0mTHRESHOLD_FROM\u001b[0m\u001b[1;33m,\u001b[0m \u001b[0mTHRESHOLD_TO\u001b[0m\u001b[1;33m,\u001b[0m \u001b[0mTHRESHOLD_STEP\u001b[0m\u001b[1;33m,\u001b[0m \u001b[0mMETHOD_INDEX\u001b[0m\u001b[1;33m)\u001b[0m \u001b[1;31m#graphs\u001b[0m\u001b[1;33m\u001b[0m\u001b[1;33m\u001b[0m\u001b[0m\n\u001b[0m",
      "\u001b[1;32m<ipython-input-87-215da18aa4d2>\u001b[0m in \u001b[0;36mmake_step_analysis\u001b[1;34m(self, f, to, step, method_index)\u001b[0m\n\u001b[0;32m     63\u001b[0m             \u001b[0mmatrix_method_thresholded\u001b[0m \u001b[1;33m=\u001b[0m \u001b[0mapply_threshold\u001b[0m\u001b[1;33m(\u001b[0m\u001b[0mmatrix_method\u001b[0m\u001b[1;33m,\u001b[0m \u001b[0mthresh\u001b[0m\u001b[1;33m)\u001b[0m\u001b[1;33m\u001b[0m\u001b[1;33m\u001b[0m\u001b[0m\n\u001b[0;32m     64\u001b[0m             \u001b[0mtitle\u001b[0m \u001b[1;33m=\u001b[0m \u001b[1;34mf\"{method_name}\"\u001b[0m\u001b[1;33m\u001b[0m\u001b[1;33m\u001b[0m\u001b[0m\n\u001b[1;32m---> 65\u001b[1;33m             \u001b[0mcalculated_tuple\u001b[0m \u001b[1;33m=\u001b[0m \u001b[0mcreate_confusion_tuple\u001b[0m\u001b[1;33m(\u001b[0m\u001b[0mmatrix\u001b[0m\u001b[1;33m,\u001b[0m \u001b[0mmatrix_method_thresholded\u001b[0m\u001b[1;33m,\u001b[0m \u001b[0mmatrix_method\u001b[0m\u001b[1;33m,\u001b[0m \u001b[0mtitle\u001b[0m\u001b[1;33m)\u001b[0m\u001b[1;33m\u001b[0m\u001b[1;33m\u001b[0m\u001b[0m\n\u001b[0m\u001b[0;32m     66\u001b[0m             \u001b[0mperf\u001b[0m \u001b[1;33m=\u001b[0m \u001b[0mPerformace\u001b[0m\u001b[1;33m(\u001b[0m\u001b[0mtitle\u001b[0m\u001b[1;33m)\u001b[0m\u001b[1;33m\u001b[0m\u001b[1;33m\u001b[0m\u001b[0m\n\u001b[0;32m     67\u001b[0m             \u001b[0mperf\u001b[0m\u001b[1;33m.\u001b[0m\u001b[0mcalculate\u001b[0m\u001b[1;33m(\u001b[0m\u001b[0mcalculated_tuple\u001b[0m\u001b[1;33m)\u001b[0m\u001b[1;33m\u001b[0m\u001b[1;33m\u001b[0m\u001b[0m\n",
      "\u001b[1;32m<ipython-input-71-b9ee1b406c3e>\u001b[0m in \u001b[0;36mcreate_confusion_tuple\u001b[1;34m(matrix, m_matrix, predicted_matrix, t)\u001b[0m\n\u001b[0;32m    182\u001b[0m     \u001b[1;32mfor\u001b[0m \u001b[0my\u001b[0m \u001b[1;32min\u001b[0m \u001b[0mrange\u001b[0m\u001b[1;33m(\u001b[0m\u001b[0mmatrix\u001b[0m\u001b[1;33m.\u001b[0m\u001b[0mshape\u001b[0m\u001b[1;33m[\u001b[0m\u001b[1;36m0\u001b[0m\u001b[1;33m]\u001b[0m\u001b[1;33m)\u001b[0m\u001b[1;33m:\u001b[0m\u001b[1;33m\u001b[0m\u001b[1;33m\u001b[0m\u001b[0m\n\u001b[0;32m    183\u001b[0m         \u001b[1;32mfor\u001b[0m \u001b[0mx\u001b[0m \u001b[1;32min\u001b[0m \u001b[0mrange\u001b[0m\u001b[1;33m(\u001b[0m\u001b[0my\u001b[0m\u001b[1;33m+\u001b[0m\u001b[1;36m1\u001b[0m\u001b[1;33m,\u001b[0m \u001b[0mmatrix\u001b[0m\u001b[1;33m.\u001b[0m\u001b[0mshape\u001b[0m\u001b[1;33m[\u001b[0m\u001b[1;36m1\u001b[0m\u001b[1;33m]\u001b[0m\u001b[1;33m)\u001b[0m\u001b[1;33m:\u001b[0m\u001b[1;33m\u001b[0m\u001b[1;33m\u001b[0m\u001b[0m\n\u001b[1;32m--> 184\u001b[1;33m             \u001b[0mavailable_value\u001b[0m \u001b[1;33m=\u001b[0m \u001b[0mmatrix\u001b[0m\u001b[1;33m[\u001b[0m\u001b[0my\u001b[0m\u001b[1;33m,\u001b[0m \u001b[0mx\u001b[0m\u001b[1;33m]\u001b[0m\u001b[1;33m\u001b[0m\u001b[1;33m\u001b[0m\u001b[0m\n\u001b[0m\u001b[0;32m    185\u001b[0m             \u001b[0mpredicted_value\u001b[0m \u001b[1;33m=\u001b[0m \u001b[0mm_matrix\u001b[0m\u001b[1;33m[\u001b[0m\u001b[0my\u001b[0m\u001b[1;33m,\u001b[0m \u001b[0mx\u001b[0m\u001b[1;33m]\u001b[0m\u001b[1;33m\u001b[0m\u001b[1;33m\u001b[0m\u001b[0m\n\u001b[0;32m    186\u001b[0m \u001b[1;33m\u001b[0m\u001b[0m\n",
      "\u001b[1;32mc:\\users\\vojta\\desktop\\own\\university\\ing\\01\\madii_projects\\analysis\\venv\\lib\\site-packages\\numpy\\matrixlib\\defmatrix.py\u001b[0m in \u001b[0;36m__getitem__\u001b[1;34m(self, index)\u001b[0m\n\u001b[0;32m    191\u001b[0m \u001b[1;33m\u001b[0m\u001b[0m\n\u001b[0;32m    192\u001b[0m         \u001b[1;32mtry\u001b[0m\u001b[1;33m:\u001b[0m\u001b[1;33m\u001b[0m\u001b[1;33m\u001b[0m\u001b[0m\n\u001b[1;32m--> 193\u001b[1;33m             \u001b[0mout\u001b[0m \u001b[1;33m=\u001b[0m \u001b[0mN\u001b[0m\u001b[1;33m.\u001b[0m\u001b[0mndarray\u001b[0m\u001b[1;33m.\u001b[0m\u001b[0m__getitem__\u001b[0m\u001b[1;33m(\u001b[0m\u001b[0mself\u001b[0m\u001b[1;33m,\u001b[0m \u001b[0mindex\u001b[0m\u001b[1;33m)\u001b[0m\u001b[1;33m\u001b[0m\u001b[1;33m\u001b[0m\u001b[0m\n\u001b[0m\u001b[0;32m    194\u001b[0m         \u001b[1;32mfinally\u001b[0m\u001b[1;33m:\u001b[0m\u001b[1;33m\u001b[0m\u001b[1;33m\u001b[0m\u001b[0m\n\u001b[0;32m    195\u001b[0m             \u001b[0mself\u001b[0m\u001b[1;33m.\u001b[0m\u001b[0m_getitem\u001b[0m \u001b[1;33m=\u001b[0m \u001b[1;32mFalse\u001b[0m\u001b[1;33m\u001b[0m\u001b[1;33m\u001b[0m\u001b[0m\n",
      "\u001b[1;31mKeyboardInterrupt\u001b[0m: "
     ]
    }
   ],
   "source": [
    "pred = c.make_step_analysis(THRESHOLD_FROM, THRESHOLD_TO, THRESHOLD_STEP, METHOD_INDEX) #graphs"
   ]
  },
  {
   "cell_type": "code",
   "execution_count": 104,
   "id": "65699b76",
   "metadata": {},
   "outputs": [],
   "source": [
    "def create_prediction_df(prediction, columns=['TODO']):\n",
    "    dic = {}\n",
    "    confusion_labels = ['TRUE POSITIVE', 'TRUE NEGATIVE', 'FALSE POSITIVE', 'FALSE NEGATIVE']\n",
    "    confusion_tuple, performance = prediction\n",
    "\n",
    "    for label_index, label in enumerate(confusion_labels):\n",
    "        value = confusion_tuple[label_index]\n",
    "        dic[label] = value\n",
    "\n",
    "    for k, v in performance.get_dictionary().items():\n",
    "        dic[k] = v\n",
    "\n",
    "    df = pd.DataFrame.from_dict(dic, orient='index', columns=columns)\n",
    "\n",
    "    return df"
   ]
  },
  {
   "cell_type": "code",
   "execution_count": 111,
   "id": "68dc69c2",
   "metadata": {},
   "outputs": [],
   "source": [
    "def save_prediction(predictions, path):\n",
    "    predictions_keys = list(predictions.keys())\n",
    "    dfs = []\n",
    "\n",
    "    for k in predictions_keys:\n",
    "        prediction = predictions[k]\n",
    "        dfs.append(create_prediction_df(prediction, [k]))\n",
    "\n",
    "    with pd.ExcelWriter(path) as writer:\n",
    "        #props_df = graph_analysis.get_df()\n",
    "        #props_df.to_excel(writer, sheet_name='GraphProperties')\n",
    "        for index, df in enumerate(dfs):\n",
    "            sheet_name = predictions_keys[index]\n",
    "            df.to_excel(writer, sheet_name=f'{sheet_name}')\n",
    "            writer.save()"
   ]
  },
  {
   "cell_type": "code",
   "execution_count": 112,
   "id": "84648e09",
   "metadata": {},
   "outputs": [],
   "source": [
    "PATH_TO_SAVE_PREDICTIONS = f'outputs\\\\predictions\\\\'"
   ]
  },
  {
   "cell_type": "code",
   "execution_count": 113,
   "id": "8b95d32c",
   "metadata": {},
   "outputs": [],
   "source": [
    "directory = f'{PATH_TO_SAVE_PREDICTIONS}{METHOD_NAME}'\n",
    "path = f'{directory}/{METHOD_NAME}.xlsx'\n",
    "if not os.path.exists(directory):\n",
    "    os.makedirs(directory)\n",
    "save_prediction(pred, path)\n"
   ]
  },
  {
   "cell_type": "markdown",
   "id": "d72fd3c7",
   "metadata": {},
   "source": [
    "# Graphs\n"
   ]
  },
  {
   "cell_type": "code",
   "execution_count": 114,
   "id": "0a71b1e6",
   "metadata": {},
   "outputs": [
    {
     "name": "stdout",
     "output_type": "stream",
     "text": [
      "saving graph Sensitivity\n",
      "saving graph Specificity\n",
      "saving graph Precision\n",
      "saving graph Recall\n",
      "saving graph Fallout\n",
      "saving graph Accuracy\n",
      "saving graph Time\n",
      "saving graph Threshold\n"
     ]
    },
    {
     "data": {
      "image/png": "[encoded data removed]",
      "text/plain": [
       "<Figure size 432x288 with 1 Axes>"
      ]
     },
     "metadata": {
      "needs_background": "light"
     },
     "output_type": "display_data"
    },
    {
     "data": {
      "image/png": "[encoded data removed]",
      "text/plain": [
       "<Figure size 432x288 with 1 Axes>"
      ]
     },
     "metadata": {
      "needs_background": "light"
     },
     "output_type": "display_data"
    },
    {
     "data": {
      "image/png": "[encoded data removed]",
      "text/plain": [
       "<Figure size 432x288 with 1 Axes>"
      ]
     },
     "metadata": {
      "needs_background": "light"
     },
     "output_type": "display_data"
    },
    {
     "data": {
      "image/png": "[encoded data removed]",
      "text/plain": [
       "<Figure size 432x288 with 1 Axes>"
      ]
     },
     "metadata": {
      "needs_background": "light"
     },
     "output_type": "display_data"
    },
    {
     "data": {
      "image/png": "[encoded data removed]",
      "text/plain": [
       "<Figure size 432x288 with 1 Axes>"
      ]
     },
     "metadata": {
      "needs_background": "light"
     },
     "output_type": "display_data"
    },
    {
     "data": {
      "image/png": "[encoded data removed]",
      "text/plain": [
       "<Figure size 432x288 with 1 Axes>"
      ]
     },
     "metadata": {
      "needs_background": "light"
     },
     "output_type": "display_data"
    },
    {
     "data": {
      "image/png": "[encoded data removed]",
      "text/plain": [
       "<Figure size 432x288 with 1 Axes>"
      ]
     },
     "metadata": {
      "needs_background": "light"
     },
     "output_type": "display_data"
    },
    {
     "data": {
      "image/png": "[encoded data removed]",
      "text/plain": [
       "<Figure size 432x288 with 1 Axes>"
      ]
     },
     "metadata": {
      "needs_background": "light"
     },
     "output_type": "display_data"
    }
   ],
   "source": [
    "ys = {}\n",
    "\n",
    "x = pred.keys() #thresholds\n",
    "performances = pred.values()\n",
    "titles = None\n",
    "\n",
    "for performance in performances:\n",
    "    for k,v in performance[1].get_dictionary().items():\n",
    "        if k in ys:\n",
    "            ys[k].append(v)\n",
    "        else:\n",
    "            ys[k] = [v]\n",
    "\n",
    "\n",
    "#save graphs\n",
    "for k, v in ys.items():\n",
    "    print('saving graph', k)\n",
    "    fig, ax = plt.subplots()\n",
    "    ax.set_title(k)\n",
    "    ax.set_xlabel('threshold')\n",
    "    ax.set_ylabel('%')\n",
    "    ax.grid()\n",
    "    ax.plot(x, v, color='red', marker='o')\n",
    "    fig.savefig(f'{directory}/{k}.jpg')\n"
   ]
  },
  {
   "cell_type": "code",
   "execution_count": null,
   "id": "910bcebe",
   "metadata": {},
   "outputs": [],
   "source": []
  }
 ],
 "metadata": {
  "kernelspec": {
   "display_name": "Python 3",
   "language": "python",
   "name": "python3"
  },
  "language_info": {
   "codemirror_mode": {
    "name": "ipython",
    "version": 3
   },
   "file_extension": ".py",
   "mimetype": "text/x-python",
   "name": "python",
   "nbconvert_exporter": "python",
   "pygments_lexer": "ipython3",
   "version": "3.8.1"
  }
 },
 "nbformat": 4,
 "nbformat_minor": 5
}
