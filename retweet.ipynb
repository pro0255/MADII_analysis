{
 "cells": [
  {
   "cell_type": "code",
   "execution_count": 561,
   "id": "3a51b197",
   "metadata": {},
   "outputs": [],
   "source": [
    "import os\n",
    "import pandas as pd\n",
    "from datetime import datetime\n",
    "import time\n",
    "import math\n",
    "import numpy as np\n",
    "import networkx as nx\n",
    "import copy\n",
    "import random\n",
    "import matplotlib.pyplot as plt"
   ]
  },
  {
   "cell_type": "code",
   "execution_count": 2,
   "id": "c36166a1",
   "metadata": {},
   "outputs": [
    {
     "data": {
      "text/plain": [
       "'C:\\\\Users\\\\Vojta\\\\Desktop\\\\own\\\\university\\\\ing\\\\01\\\\madII_projects\\\\analysis'"
      ]
     },
     "execution_count": 2,
     "metadata": {},
     "output_type": "execute_result"
    }
   ],
   "source": [
    "os.getcwd()"
   ]
  },
  {
   "cell_type": "code",
   "execution_count": 3,
   "id": "17d1de8a",
   "metadata": {},
   "outputs": [],
   "source": [
    "name_of_file = 'ia-retweet-pol.edges'"
   ]
  },
  {
   "cell_type": "code",
   "execution_count": 4,
   "id": "09e86a1a",
   "metadata": {},
   "outputs": [],
   "source": [
    "path_to_file = f'.\\\\ds\\\\{name_of_file}'"
   ]
  },
  {
   "cell_type": "code",
   "execution_count": 5,
   "id": "7ae1bc59",
   "metadata": {},
   "outputs": [
    {
     "name": "stdout",
     "output_type": "stream",
     "text": [
      "Collecting pandas\n",
      "  Using cached https://files.pythonhosted.org/packages/b9/b9/6a13093ca4e4ea11af84fd40076601397f725944add620937f27319a940b/pandas-1.2.4-cp38-cp38-win_amd64.whl\n",
      "Requirement already satisfied: python-dateutil>=2.7.3 in c:\\users\\vojta\\desktop\\own\\university\\ing\\01\\madii_projects\\analysis\\venv\\lib\\site-packages (from pandas) (2.8.1)\n",
      "Collecting pytz>=2017.3 (from pandas)\n",
      "  Using cached https://files.pythonhosted.org/packages/70/94/784178ca5dd892a98f113cdd923372024dc04b8d40abe77ca76b5fb90ca6/pytz-2021.1-py2.py3-none-any.whl\n",
      "Collecting numpy>=1.16.5 (from pandas)\n",
      "  Using cached https://files.pythonhosted.org/packages/89/c3/a0fa36e9fea68f782d3ce5eba4187d090ec81db035e356c8046713b22a1f/numpy-1.20.2-cp38-cp38-win_amd64.whl\n",
      "Requirement already satisfied: six>=1.5 in c:\\users\\vojta\\desktop\\own\\university\\ing\\01\\madii_projects\\analysis\\venv\\lib\\site-packages (from python-dateutil>=2.7.3->pandas) (1.16.0)\n",
      "Installing collected packages: pytz, numpy, pandas\n",
      "Successfully installed numpy-1.20.2 pandas-1.2.4 pytz-2021.1\n"
     ]
    },
    {
     "name": "stderr",
     "output_type": "stream",
     "text": [
      "WARNING: You are using pip version 19.2.3, however version 21.1.1 is available.\n",
      "You should consider upgrading via the 'python -m pip install --upgrade pip' command.\n"
     ]
    }
   ],
   "source": [
    "!pip install pandas"
   ]
  },
  {
   "cell_type": "code",
   "execution_count": 12,
   "id": "16998c24",
   "metadata": {},
   "outputs": [],
   "source": [
    "dataset = pd.read_csv(path_to_file, sep=',', header=None)"
   ]
  },
  {
   "cell_type": "code",
   "execution_count": 13,
   "id": "ddf8c016",
   "metadata": {},
   "outputs": [
    {
     "data": {
      "text/html": [
       "<div>\n",
       "<style scoped>\n",
       "    .dataframe tbody tr th:only-of-type {\n",
       "        vertical-align: middle;\n",
       "    }\n",
       "\n",
       "    .dataframe tbody tr th {\n",
       "        vertical-align: top;\n",
       "    }\n",
       "\n",
       "    .dataframe thead th {\n",
       "        text-align: right;\n",
       "    }\n",
       "</style>\n",
       "<table border=\"1\" class=\"dataframe\">\n",
       "  <thead>\n",
       "    <tr style=\"text-align: right;\">\n",
       "      <th></th>\n",
       "      <th>0</th>\n",
       "      <th>1</th>\n",
       "      <th>2</th>\n",
       "    </tr>\n",
       "  </thead>\n",
       "  <tbody>\n",
       "    <tr>\n",
       "      <th>0</th>\n",
       "      <td>12464</td>\n",
       "      <td>7349</td>\n",
       "      <td>1286901355</td>\n",
       "    </tr>\n",
       "    <tr>\n",
       "      <th>1</th>\n",
       "      <td>6820</td>\n",
       "      <td>12569</td>\n",
       "      <td>1287988962</td>\n",
       "    </tr>\n",
       "    <tr>\n",
       "      <th>2</th>\n",
       "      <td>4336</td>\n",
       "      <td>15967</td>\n",
       "      <td>1286535938</td>\n",
       "    </tr>\n",
       "    <tr>\n",
       "      <th>3</th>\n",
       "      <td>16397</td>\n",
       "      <td>5927</td>\n",
       "      <td>1285134188</td>\n",
       "    </tr>\n",
       "    <tr>\n",
       "      <th>4</th>\n",
       "      <td>8829</td>\n",
       "      <td>13851</td>\n",
       "      <td>1285493596</td>\n",
       "    </tr>\n",
       "  </tbody>\n",
       "</table>\n",
       "</div>"
      ],
      "text/plain": [
       "       0      1           2\n",
       "0  12464   7349  1286901355\n",
       "1   6820  12569  1287988962\n",
       "2   4336  15967  1286535938\n",
       "3  16397   5927  1285134188\n",
       "4   8829  13851  1285493596"
      ]
     },
     "execution_count": 13,
     "metadata": {},
     "output_type": "execute_result"
    }
   ],
   "source": [
    "dataset.head()"
   ]
  },
  {
   "cell_type": "code",
   "execution_count": 21,
   "id": "e96b0049",
   "metadata": {},
   "outputs": [],
   "source": [
    "dataset['converted_time'] = dataset.iloc[:, 2].apply(time.ctime)"
   ]
  },
  {
   "cell_type": "code",
   "execution_count": 22,
   "id": "05601936",
   "metadata": {},
   "outputs": [
    {
     "data": {
      "text/html": [
       "<div>\n",
       "<style scoped>\n",
       "    .dataframe tbody tr th:only-of-type {\n",
       "        vertical-align: middle;\n",
       "    }\n",
       "\n",
       "    .dataframe tbody tr th {\n",
       "        vertical-align: top;\n",
       "    }\n",
       "\n",
       "    .dataframe thead th {\n",
       "        text-align: right;\n",
       "    }\n",
       "</style>\n",
       "<table border=\"1\" class=\"dataframe\">\n",
       "  <thead>\n",
       "    <tr style=\"text-align: right;\">\n",
       "      <th></th>\n",
       "      <th>0</th>\n",
       "      <th>1</th>\n",
       "      <th>2</th>\n",
       "      <th>converted_time</th>\n",
       "    </tr>\n",
       "  </thead>\n",
       "  <tbody>\n",
       "    <tr>\n",
       "      <th>0</th>\n",
       "      <td>12464</td>\n",
       "      <td>7349</td>\n",
       "      <td>1286901355</td>\n",
       "      <td>Tue Oct 12 18:35:55 2010</td>\n",
       "    </tr>\n",
       "    <tr>\n",
       "      <th>1</th>\n",
       "      <td>6820</td>\n",
       "      <td>12569</td>\n",
       "      <td>1287988962</td>\n",
       "      <td>Mon Oct 25 08:42:42 2010</td>\n",
       "    </tr>\n",
       "    <tr>\n",
       "      <th>2</th>\n",
       "      <td>4336</td>\n",
       "      <td>15967</td>\n",
       "      <td>1286535938</td>\n",
       "      <td>Fri Oct  8 13:05:38 2010</td>\n",
       "    </tr>\n",
       "    <tr>\n",
       "      <th>3</th>\n",
       "      <td>16397</td>\n",
       "      <td>5927</td>\n",
       "      <td>1285134188</td>\n",
       "      <td>Wed Sep 22 07:43:08 2010</td>\n",
       "    </tr>\n",
       "    <tr>\n",
       "      <th>4</th>\n",
       "      <td>8829</td>\n",
       "      <td>13851</td>\n",
       "      <td>1285493596</td>\n",
       "      <td>Sun Sep 26 11:33:16 2010</td>\n",
       "    </tr>\n",
       "  </tbody>\n",
       "</table>\n",
       "</div>"
      ],
      "text/plain": [
       "       0      1           2            converted_time\n",
       "0  12464   7349  1286901355  Tue Oct 12 18:35:55 2010\n",
       "1   6820  12569  1287988962  Mon Oct 25 08:42:42 2010\n",
       "2   4336  15967  1286535938  Fri Oct  8 13:05:38 2010\n",
       "3  16397   5927  1285134188  Wed Sep 22 07:43:08 2010\n",
       "4   8829  13851  1285493596  Sun Sep 26 11:33:16 2010"
      ]
     },
     "execution_count": 22,
     "metadata": {},
     "output_type": "execute_result"
    }
   ],
   "source": [
    "dataset.head()"
   ]
  },
  {
   "cell_type": "code",
   "execution_count": 63,
   "id": "d236c095",
   "metadata": {},
   "outputs": [],
   "source": []
  },
  {
   "cell_type": "code",
   "execution_count": 31,
   "id": "1842f075",
   "metadata": {},
   "outputs": [],
   "source": [
    "dataset = dataset.sort_values(by=2)"
   ]
  },
  {
   "cell_type": "code",
   "execution_count": 162,
   "id": "0cb9eb0c",
   "metadata": {},
   "outputs": [
    {
     "data": {
      "text/html": [
       "<div>\n",
       "<style scoped>\n",
       "    .dataframe tbody tr th:only-of-type {\n",
       "        vertical-align: middle;\n",
       "    }\n",
       "\n",
       "    .dataframe tbody tr th {\n",
       "        vertical-align: top;\n",
       "    }\n",
       "\n",
       "    .dataframe thead th {\n",
       "        text-align: right;\n",
       "    }\n",
       "</style>\n",
       "<table border=\"1\" class=\"dataframe\">\n",
       "  <thead>\n",
       "    <tr style=\"text-align: right;\">\n",
       "      <th></th>\n",
       "      <th>0</th>\n",
       "      <th>1</th>\n",
       "      <th>2</th>\n",
       "      <th>converted_time</th>\n",
       "    </tr>\n",
       "  </thead>\n",
       "  <tbody>\n",
       "    <tr>\n",
       "      <th>60312</th>\n",
       "      <td>12464</td>\n",
       "      <td>1266</td>\n",
       "      <td>1284436821</td>\n",
       "      <td>Tue Sep 14 06:00:21 2010</td>\n",
       "    </tr>\n",
       "    <tr>\n",
       "      <th>33870</th>\n",
       "      <td>1864</td>\n",
       "      <td>11180</td>\n",
       "      <td>1284436868</td>\n",
       "      <td>Tue Sep 14 06:01:08 2010</td>\n",
       "    </tr>\n",
       "    <tr>\n",
       "      <th>23251</th>\n",
       "      <td>10488</td>\n",
       "      <td>7720</td>\n",
       "      <td>1284436924</td>\n",
       "      <td>Tue Sep 14 06:02:04 2010</td>\n",
       "    </tr>\n",
       "    <tr>\n",
       "      <th>23641</th>\n",
       "      <td>9408</td>\n",
       "      <td>9682</td>\n",
       "      <td>1284437061</td>\n",
       "      <td>Tue Sep 14 06:04:21 2010</td>\n",
       "    </tr>\n",
       "    <tr>\n",
       "      <th>5005</th>\n",
       "      <td>12750</td>\n",
       "      <td>12317</td>\n",
       "      <td>1284437161</td>\n",
       "      <td>Tue Sep 14 06:06:01 2010</td>\n",
       "    </tr>\n",
       "  </tbody>\n",
       "</table>\n",
       "</div>"
      ],
      "text/plain": [
       "           0      1           2            converted_time\n",
       "60312  12464   1266  1284436821  Tue Sep 14 06:00:21 2010\n",
       "33870   1864  11180  1284436868  Tue Sep 14 06:01:08 2010\n",
       "23251  10488   7720  1284436924  Tue Sep 14 06:02:04 2010\n",
       "23641   9408   9682  1284437061  Tue Sep 14 06:04:21 2010\n",
       "5005   12750  12317  1284437161  Tue Sep 14 06:06:01 2010"
      ]
     },
     "execution_count": 162,
     "metadata": {},
     "output_type": "execute_result"
    }
   ],
   "source": [
    "dataset.head()"
   ]
  },
  {
   "cell_type": "code",
   "execution_count": 163,
   "id": "575a1373",
   "metadata": {},
   "outputs": [],
   "source": [
    "START_UNIX = 1284436821"
   ]
  },
  {
   "cell_type": "code",
   "execution_count": 164,
   "id": "33a8c2da",
   "metadata": {},
   "outputs": [
    {
     "data": {
      "text/plain": [
       "'Tue Sep 14 06:00:21 2010'"
      ]
     },
     "execution_count": 164,
     "metadata": {},
     "output_type": "execute_result"
    }
   ],
   "source": [
    "first = dataset.iloc[0]\n",
    "first.converted_time"
   ]
  },
  {
   "cell_type": "code",
   "execution_count": 165,
   "id": "231f22be",
   "metadata": {},
   "outputs": [
    {
     "data": {
      "text/plain": [
       "'Mon Nov  1 23:41:59 2010'"
      ]
     },
     "execution_count": 165,
     "metadata": {},
     "output_type": "execute_result"
    }
   ],
   "source": [
    "last = dataset.iloc[-1]\n",
    "last.converted_time"
   ]
  },
  {
   "cell_type": "code",
   "execution_count": 166,
   "id": "a0e45bd7",
   "metadata": {},
   "outputs": [],
   "source": [
    "NUMBER_OF_LAYERS = 3"
   ]
  },
  {
   "cell_type": "code",
   "execution_count": 167,
   "id": "a7f3841b",
   "metadata": {},
   "outputs": [],
   "source": [
    "interval = last[2] - first[2]"
   ]
  },
  {
   "cell_type": "code",
   "execution_count": 168,
   "id": "19d6e0a2",
   "metadata": {},
   "outputs": [
    {
     "data": {
      "text/plain": [
       "4214498"
      ]
     },
     "execution_count": 168,
     "metadata": {},
     "output_type": "execute_result"
    }
   ],
   "source": [
    "interval"
   ]
  },
  {
   "cell_type": "code",
   "execution_count": 169,
   "id": "932efd1a",
   "metadata": {},
   "outputs": [],
   "source": [
    "size = math.ceil(interval / NUMBER_OF_LAYERS)"
   ]
  },
  {
   "cell_type": "code",
   "execution_count": 170,
   "id": "f7d65071",
   "metadata": {},
   "outputs": [
    {
     "data": {
      "text/plain": [
       "1404833"
      ]
     },
     "execution_count": 170,
     "metadata": {},
     "output_type": "execute_result"
    }
   ],
   "source": [
    "size"
   ]
  },
  {
   "cell_type": "code",
   "execution_count": 171,
   "id": "69ad0101",
   "metadata": {},
   "outputs": [
    {
     "data": {
      "text/plain": [
       "1288651320"
      ]
     },
     "execution_count": 171,
     "metadata": {},
     "output_type": "execute_result"
    }
   ],
   "source": [
    "START_UNIX + size * 3"
   ]
  },
  {
   "cell_type": "code",
   "execution_count": 172,
   "id": "f24cbe4d",
   "metadata": {},
   "outputs": [
    {
     "data": {
      "text/plain": [
       "1288651319"
      ]
     },
     "execution_count": 172,
     "metadata": {},
     "output_type": "execute_result"
    }
   ],
   "source": [
    "last[2]"
   ]
  },
  {
   "cell_type": "code",
   "execution_count": 173,
   "id": "32d44b2a",
   "metadata": {},
   "outputs": [],
   "source": [
    "def create_sub_df(step, index, last_end_index, data, last=False):\n",
    "    end_value = START_UNIX + index * step\n",
    "    time_values = data.iloc[:, 2].values\n",
    "\n",
    "    if last:\n",
    "        print('end')\n",
    "        f_i = int(last_end_index) #from index\n",
    "        sub_df = data.iloc[f_i:, :]\n",
    "        return sub_df, None\n",
    "        \n",
    "    \n",
    "    \n",
    "    find_value = end_value\n",
    "    v = None\n",
    "    while True:\n",
    "        v = np.argwhere(time_values == find_value).flatten()\n",
    "        \n",
    "        if(len(v) > 0):\n",
    "            print(v)\n",
    "            print('Found')\n",
    "            \n",
    "            break\n",
    "        find_value -= 1\n",
    "\n",
    "    f_i = int(last_end_index) #from index\n",
    "    t_i = int(v[-1] + 1) #to index \n",
    "\n",
    "    sub_df = data.iloc[f_i:t_i, :]\n",
    "    my_end_index = t_i\n",
    "    return sub_df, my_end_index"
   ]
  },
  {
   "cell_type": "code",
   "execution_count": 174,
   "id": "45650193",
   "metadata": {},
   "outputs": [
    {
     "name": "stdout",
     "output_type": "stream",
     "text": [
      "[20622]\n",
      "Found\n",
      "[40794]\n",
      "Found\n",
      "end\n"
     ]
    }
   ],
   "source": [
    "sub_dfs = []\n",
    "last_end_index = 0\n",
    "for i in range(NUMBER_OF_LAYERS):\n",
    "    transformed_i = i + 1\n",
    "    sub_df, last_end_index = create_sub_df(size, transformed_i, last_end_index, dataset, transformed_i==NUMBER_OF_LAYERS)\n",
    "    sub_dfs.append(sub_df)"
   ]
  },
  {
   "cell_type": "code",
   "execution_count": 175,
   "id": "65f51f54",
   "metadata": {},
   "outputs": [
    {
     "data": {
      "text/plain": [
       "3"
      ]
     },
     "execution_count": 175,
     "metadata": {},
     "output_type": "execute_result"
    }
   ],
   "source": [
    "len(sub_dfs)"
   ]
  },
  {
   "cell_type": "markdown",
   "id": "13782afa",
   "metadata": {},
   "source": [
    "# Check len"
   ]
  },
  {
   "cell_type": "code",
   "execution_count": 176,
   "id": "883a16e3",
   "metadata": {},
   "outputs": [
    {
     "name": "stdout",
     "output_type": "stream",
     "text": [
      "DF0 - 20623\n",
      "DF1 - 20172\n",
      "DF2 - 20362\n"
     ]
    }
   ],
   "source": [
    "for i in range(len(sub_dfs)):\n",
    "    sub_len = len(sub_dfs[i])\n",
    "    print(f'DF{i} - {sub_len}')"
   ]
  },
  {
   "cell_type": "code",
   "execution_count": 177,
   "id": "d0b42ca6",
   "metadata": {},
   "outputs": [
    {
     "data": {
      "text/plain": [
       "True"
      ]
     },
     "execution_count": 177,
     "metadata": {},
     "output_type": "execute_result"
    }
   ],
   "source": [
    "len(dataset) == np.sum([len(df) for df in sub_dfs]) #correct multilayer"
   ]
  },
  {
   "cell_type": "code",
   "execution_count": 178,
   "id": "a6189164",
   "metadata": {},
   "outputs": [],
   "source": [
    "def from_df_g(sub_df):\n",
    "    G = nx.from_pandas_edgelist(sub_df, 0, 1)\n",
    "    return G"
   ]
  },
  {
   "cell_type": "code",
   "execution_count": 179,
   "id": "9dd81f80",
   "metadata": {},
   "outputs": [],
   "source": [
    "#Gs without appended nodes\n",
    "Gs = []"
   ]
  },
  {
   "cell_type": "code",
   "execution_count": 180,
   "id": "882c78ae",
   "metadata": {},
   "outputs": [],
   "source": [
    "nodes_ids_1 = dataset.iloc[:, 0]\n",
    "nodes_ids_2 = dataset.iloc[:, 1]\n",
    "\n",
    "\n",
    "nodes_ids = np.unique(np.array(list(np.unique(nodes_ids_1)) +  list(np.unique(nodes_ids_2))))"
   ]
  },
  {
   "cell_type": "code",
   "execution_count": 181,
   "id": "fe7bbdc0",
   "metadata": {},
   "outputs": [],
   "source": [
    "for s_df in sub_dfs:\n",
    "    s_G = from_df_g(s_df)\n",
    "    Gs.append(s_G)"
   ]
  },
  {
   "cell_type": "code",
   "execution_count": 182,
   "id": "a0817f30",
   "metadata": {},
   "outputs": [],
   "source": [
    "Gs_appended = Gs.copy()"
   ]
  },
  {
   "cell_type": "code",
   "execution_count": 183,
   "id": "5012bb28",
   "metadata": {},
   "outputs": [],
   "source": [
    "#append not existing actors to Gs\n",
    "for current_G in Gs_appended:\n",
    "    current_nodes = current_G.nodes() \n",
    "    need_to_append = list(filter(lambda x: x not in current_nodes, nodes_ids)) \n",
    "\n",
    "    for node_to_append in need_to_append:\n",
    "        current_G.add_node(node_to_append)"
   ]
  },
  {
   "cell_type": "code",
   "execution_count": 184,
   "id": "ef4a9cca",
   "metadata": {},
   "outputs": [
    {
     "name": "stdout",
     "output_type": "stream",
     "text": [
      "18470\n"
     ]
    }
   ],
   "source": [
    "UNIQUE_NODES = (len(nodes_ids))\n",
    "print(UNIQUE_NODES)"
   ]
  },
  {
   "cell_type": "code",
   "execution_count": 185,
   "id": "5365d464",
   "metadata": {},
   "outputs": [
    {
     "name": "stdout",
     "output_type": "stream",
     "text": [
      "55410\n"
     ]
    }
   ],
   "source": [
    "Gs_len = np.sum([len(g.nodes()) for g in Gs])\n",
    "print(Gs_len)"
   ]
  },
  {
   "cell_type": "code",
   "execution_count": 186,
   "id": "b06aaa19",
   "metadata": {},
   "outputs": [
    {
     "name": "stdout",
     "output_type": "stream",
     "text": [
      "55410\n"
     ]
    }
   ],
   "source": [
    "Gs_len_appended = np.sum([len(g.nodes()) for g in Gs_appended]) \n",
    "print(Gs_len_appended)"
   ]
  },
  {
   "cell_type": "code",
   "execution_count": 187,
   "id": "430f250f",
   "metadata": {},
   "outputs": [],
   "source": [
    "labels = list(Gs[0].nodes())"
   ]
  },
  {
   "cell_type": "code",
   "execution_count": 188,
   "id": "dd4a61a1",
   "metadata": {},
   "outputs": [
    {
     "data": {
      "text/html": [
       "<div>\n",
       "<style scoped>\n",
       "    .dataframe tbody tr th:only-of-type {\n",
       "        vertical-align: middle;\n",
       "    }\n",
       "\n",
       "    .dataframe tbody tr th {\n",
       "        vertical-align: top;\n",
       "    }\n",
       "\n",
       "    .dataframe thead th {\n",
       "        text-align: right;\n",
       "    }\n",
       "</style>\n",
       "<table border=\"1\" class=\"dataframe\">\n",
       "  <thead>\n",
       "    <tr style=\"text-align: right;\">\n",
       "      <th></th>\n",
       "      <th>0</th>\n",
       "      <th>1</th>\n",
       "      <th>2</th>\n",
       "      <th>converted_time</th>\n",
       "    </tr>\n",
       "  </thead>\n",
       "  <tbody>\n",
       "    <tr>\n",
       "      <th>60312</th>\n",
       "      <td>12464</td>\n",
       "      <td>1266</td>\n",
       "      <td>1284436821</td>\n",
       "      <td>Tue Sep 14 06:00:21 2010</td>\n",
       "    </tr>\n",
       "    <tr>\n",
       "      <th>33870</th>\n",
       "      <td>1864</td>\n",
       "      <td>11180</td>\n",
       "      <td>1284436868</td>\n",
       "      <td>Tue Sep 14 06:01:08 2010</td>\n",
       "    </tr>\n",
       "    <tr>\n",
       "      <th>23251</th>\n",
       "      <td>10488</td>\n",
       "      <td>7720</td>\n",
       "      <td>1284436924</td>\n",
       "      <td>Tue Sep 14 06:02:04 2010</td>\n",
       "    </tr>\n",
       "    <tr>\n",
       "      <th>23641</th>\n",
       "      <td>9408</td>\n",
       "      <td>9682</td>\n",
       "      <td>1284437061</td>\n",
       "      <td>Tue Sep 14 06:04:21 2010</td>\n",
       "    </tr>\n",
       "    <tr>\n",
       "      <th>5005</th>\n",
       "      <td>12750</td>\n",
       "      <td>12317</td>\n",
       "      <td>1284437161</td>\n",
       "      <td>Tue Sep 14 06:06:01 2010</td>\n",
       "    </tr>\n",
       "    <tr>\n",
       "      <th>...</th>\n",
       "      <td>...</td>\n",
       "      <td>...</td>\n",
       "      <td>...</td>\n",
       "      <td>...</td>\n",
       "    </tr>\n",
       "    <tr>\n",
       "      <th>4117</th>\n",
       "      <td>10396</td>\n",
       "      <td>12484</td>\n",
       "      <td>1285841066</td>\n",
       "      <td>Thu Sep 30 12:04:26 2010</td>\n",
       "    </tr>\n",
       "    <tr>\n",
       "      <th>33276</th>\n",
       "      <td>15365</td>\n",
       "      <td>3668</td>\n",
       "      <td>1285841077</td>\n",
       "      <td>Thu Sep 30 12:04:37 2010</td>\n",
       "    </tr>\n",
       "    <tr>\n",
       "      <th>40004</th>\n",
       "      <td>6533</td>\n",
       "      <td>17339</td>\n",
       "      <td>1285841329</td>\n",
       "      <td>Thu Sep 30 12:08:49 2010</td>\n",
       "    </tr>\n",
       "    <tr>\n",
       "      <th>47240</th>\n",
       "      <td>13300</td>\n",
       "      <td>7239</td>\n",
       "      <td>1285841430</td>\n",
       "      <td>Thu Sep 30 12:10:30 2010</td>\n",
       "    </tr>\n",
       "    <tr>\n",
       "      <th>55228</th>\n",
       "      <td>17445</td>\n",
       "      <td>16578</td>\n",
       "      <td>1285841498</td>\n",
       "      <td>Thu Sep 30 12:11:38 2010</td>\n",
       "    </tr>\n",
       "  </tbody>\n",
       "</table>\n",
       "<p>20623 rows × 4 columns</p>\n",
       "</div>"
      ],
      "text/plain": [
       "           0      1           2            converted_time\n",
       "60312  12464   1266  1284436821  Tue Sep 14 06:00:21 2010\n",
       "33870   1864  11180  1284436868  Tue Sep 14 06:01:08 2010\n",
       "23251  10488   7720  1284436924  Tue Sep 14 06:02:04 2010\n",
       "23641   9408   9682  1284437061  Tue Sep 14 06:04:21 2010\n",
       "5005   12750  12317  1284437161  Tue Sep 14 06:06:01 2010\n",
       "...      ...    ...         ...                       ...\n",
       "4117   10396  12484  1285841066  Thu Sep 30 12:04:26 2010\n",
       "33276  15365   3668  1285841077  Thu Sep 30 12:04:37 2010\n",
       "40004   6533  17339  1285841329  Thu Sep 30 12:08:49 2010\n",
       "47240  13300   7239  1285841430  Thu Sep 30 12:10:30 2010\n",
       "55228  17445  16578  1285841498  Thu Sep 30 12:11:38 2010\n",
       "\n",
       "[20623 rows x 4 columns]"
      ]
     },
     "execution_count": 188,
     "metadata": {},
     "output_type": "execute_result"
    }
   ],
   "source": [
    "sub_dfs[0]"
   ]
  },
  {
   "cell_type": "code",
   "execution_count": 262,
   "id": "b1bf3fdf",
   "metadata": {},
   "outputs": [
    {
     "name": "stdout",
     "output_type": "stream",
     "text": [
      "Od Tue Sep 14 06:00:21 2010 - Do Thu Sep 30 12:11:38 2010\n",
      "Tue_Sep_14_06_00_21_2010\n",
      "Thu_Sep_30_12_11_38_2010\n",
      "Od Thu Sep 30 12:14:36 2010 - Do Sat Oct 16 18:27:49 2010\n",
      "Thu_Sep_30_12_14_36_2010\n",
      "Sat_Oct_16_18_27_49_2010\n",
      "Od Sat Oct 16 18:29:15 2010 - Do Mon Nov  1 23:41:59 2010\n",
      "Sat_Oct_16_18_29_15_2010\n",
      "Mon_Nov__1_23_41_59_2010\n"
     ]
    }
   ],
   "source": [
    "LAYER_LABELS = []\n",
    "\n",
    "for i in range(NUMBER_OF_LAYERS):\n",
    "    current_df = sub_dfs[i]\n",
    "    start = current_df.iloc[0]\n",
    "    end = current_df.iloc[-1]\n",
    "  \n",
    "\n",
    "    WORD_TITLE = f'Od {start.converted_time} - Do {end.converted_time}'\n",
    "    print(WORD_TITLE)\n",
    "    start_string = start.converted_time.replace(' ', '_').replace(':', '_')\n",
    "    end_string = end.converted_time.replace(' ', '_').replace(':', '_')\n",
    "    \n",
    "    \n",
    "    \n",
    "    print(start_string)\n",
    "    print(end_string)\n",
    "    layer_name = f'{start_string}---{end_string}'\n",
    "    LAYER_LABELS.append(layer_name)\n",
    "    \n"
   ]
  },
  {
   "cell_type": "code",
   "execution_count": 254,
   "id": "76b2372e",
   "metadata": {},
   "outputs": [
    {
     "data": {
      "text/plain": [
       "['Tue_Sep_14_06_00_21_2010---Thu_Sep_30_12_11_38_2010',\n",
       " 'Thu_Sep_30_12_14_36_2010---Sat_Oct_16_18_27_49_2010',\n",
       " 'Sat_Oct_16_18_29_15_2010---Mon_Nov__1_23_41_59_2010']"
      ]
     },
     "execution_count": 254,
     "metadata": {},
     "output_type": "execute_result"
    }
   ],
   "source": [
    "LAYER_LABELS"
   ]
  },
  {
   "cell_type": "markdown",
   "id": "b07126d4",
   "metadata": {},
   "source": [
    "# Save gephi"
   ]
  },
  {
   "cell_type": "code",
   "execution_count": 255,
   "id": "475c8089",
   "metadata": {},
   "outputs": [],
   "source": [
    "PATH_TO_GEPHI = f'outputs\\\\gephi\\\\'"
   ]
  },
  {
   "cell_type": "code",
   "execution_count": 256,
   "id": "d86d4bf9",
   "metadata": {},
   "outputs": [
    {
     "data": {
      "text/plain": [
       "'C:\\\\Users\\\\Vojta\\\\Desktop\\\\own\\\\university\\\\ing\\\\01\\\\madII_projects\\\\analysisoutputs\\\\gephi\\\\'"
      ]
     },
     "execution_count": 256,
     "metadata": {},
     "output_type": "execute_result"
    }
   ],
   "source": [
    "os.getcwd() + PATH_TO_GEPHI"
   ]
  },
  {
   "cell_type": "code",
   "execution_count": 257,
   "id": "b56d8ba3",
   "metadata": {},
   "outputs": [],
   "source": [
    "SAVE_GRAPHS = True"
   ]
  },
  {
   "cell_type": "code",
   "execution_count": 259,
   "id": "fb8510fc",
   "metadata": {},
   "outputs": [
    {
     "name": "stdout",
     "output_type": "stream",
     "text": [
      "outputs\\gephi\\GRAPH0_Tue_Sep_14_06_00_21_2010---Thu_Sep_30_12_11_38_2010.gexf\n",
      "outputs\\gephi\\GRAPH1_Thu_Sep_30_12_14_36_2010---Sat_Oct_16_18_27_49_2010.gexf\n",
      "outputs\\gephi\\GRAPH2_Sat_Oct_16_18_29_15_2010---Mon_Nov__1_23_41_59_2010.gexf\n"
     ]
    }
   ],
   "source": [
    "if SAVE_GRAPHS:\n",
    "    for i, G in enumerate(Gs):\n",
    "        name = LAYER_LABELS[i]\n",
    "        path = f'{PATH_TO_GEPHI}GRAPH{i}_{name}.gexf'\n",
    "        print(path)\n",
    "        nx.write_gexf(G, path)"
   ]
  },
  {
   "cell_type": "code",
   "execution_count": 269,
   "id": "a75b602d",
   "metadata": {},
   "outputs": [],
   "source": [
    "from enum import Enum\n",
    "class Properties(Enum):\n",
    "    V_L = 'Počet vrcholů' #\n",
    "    N_L = 'Počet hran' #\n",
    "    HUSTOTA = 'Hustota'\n",
    "    AVG_D = 'Průměrný stupeň' #\n",
    "    MAX_D = 'Maximální stupeň' #\n",
    "    DIS_D = 'Distribuce stupňů' #\n",
    "    AVG_COEF = 'Průměrný shlukovací koeficient' #\n",
    "    CC_L = 'Počet komponent souvislosti' #\n",
    "    DIST_CC = 'Distribuce velikostí komponent' #\n"
   ]
  },
  {
   "cell_type": "code",
   "execution_count": 277,
   "id": "9c5423d7",
   "metadata": {},
   "outputs": [],
   "source": [
    "from collections import Counter"
   ]
  },
  {
   "cell_type": "markdown",
   "id": "bc66d64d",
   "metadata": {},
   "source": [
    "# Analysis function"
   ]
  },
  {
   "cell_type": "code",
   "execution_count": 327,
   "id": "f4614c31",
   "metadata": {},
   "outputs": [],
   "source": [
    "def run_analysis(G):\n",
    "    result = {}\n",
    "    n = len(G.nodes())\n",
    "    m = len(G.edges())\n",
    "    \n",
    "    _, degress = zip(*G.degree())\n",
    "    c = Counter(degress)    \n",
    "    sorted_degress = dict(sorted(c.items(), key=lambda item: item[0]))\n",
    "    \n",
    "    cc = list(nx.connected_components(G))\n",
    "    len_cc = [len(c) for c in cc] \n",
    "    number_of_cc = len(cc)\n",
    "    \n",
    "    c1 = Counter(len_cc)\n",
    "    sorted_cc = dict(sorted(c1.items(), key=lambda item: item[0]))\n",
    "    \n",
    "    \n",
    "    result[Properties.V_L.value] = n\n",
    "    result[Properties.N_L.value] = m\n",
    "    #TODO hustota\n",
    "    result[Properties.AVG_D.value] = (2*m) / n\n",
    "    result[Properties.MAX_D.value] = np.max(degress)\n",
    "    result[Properties.DIS_D.value] = sorted_degress\n",
    "    \n",
    "    result[Properties.CC_L.value] = number_of_cc\n",
    "    result[Properties.DIST_CC.value] = sorted_cc\n",
    "    \n",
    "    result[Properties.AVG_COEF.value] = nx.average_clustering(G)\n",
    "\n",
    "    return result\n",
    "    \n",
    "\n",
    "    \n",
    "    "
   ]
  },
  {
   "cell_type": "markdown",
   "id": "6d4e870a",
   "metadata": {},
   "source": [
    "# Run analysis for graphs"
   ]
  },
  {
   "cell_type": "code",
   "execution_count": 328,
   "id": "417f9669",
   "metadata": {
    "scrolled": true
   },
   "outputs": [],
   "source": [
    "analysis_dic = {}\n",
    "for i, g in enumerate(Gs):\n",
    "    analysis_dic[i] = run_analysis(g)"
   ]
  },
  {
   "cell_type": "markdown",
   "id": "e80dbd5a",
   "metadata": {},
   "source": [
    "# And save everything to file :-)"
   ]
  },
  {
   "cell_type": "code",
   "execution_count": 503,
   "id": "b408a81b",
   "metadata": {},
   "outputs": [],
   "source": [
    "def make_distribution_graph(distribution_input, name='', scatter=False):\n",
    "    x, y = zip(*distribution_input.items())\n",
    "    \n",
    "    \n",
    "    fig, ax = plt.subplots()\n",
    "    ax.set_ylabel('Frequency')\n",
    "    ax.set_xlabel('Size')\n",
    "    \n",
    "    ax.set_title(name)\n",
    "    ax.set_xlim(0-10, np.max(x)+10)\n",
    "    ax.set_ylim(0-10, np.max(y)+10)\n",
    "    ax.grid()\n",
    "    if scatter:\n",
    "\n",
    "        ax.scatter(x, y, c='r')   \n",
    "    else:   \n",
    "        ax.bar(x, y, color='r', width=2)\n",
    "    return fig, ax"
   ]
  },
  {
   "cell_type": "code",
   "execution_count": 493,
   "id": "a9377b08",
   "metadata": {},
   "outputs": [],
   "source": [
    "def create_analysis_df(analysis, i):\n",
    "    return pd.DataFrame.from_dict(analysis, orient='index', columns=['Strukturální vlastnosti'])"
   ]
  },
  {
   "cell_type": "code",
   "execution_count": 494,
   "id": "0fbcc673",
   "metadata": {},
   "outputs": [],
   "source": [
    "PATH_TO_EXCELS = f'outputs\\\\excels\\\\'"
   ]
  },
  {
   "cell_type": "code",
   "execution_count": 495,
   "id": "88f6924c",
   "metadata": {},
   "outputs": [],
   "source": [
    "PATH_TO_GRAPHS = f'outputs\\\\graphs\\\\'"
   ]
  },
  {
   "cell_type": "code",
   "execution_count": 496,
   "id": "848747d2",
   "metadata": {},
   "outputs": [],
   "source": [
    "def save_graphs(graphs, index):\n",
    "    graph_layer_folder = f'{PATH_TO_GRAPHS}{index}'\n",
    "    if not os.path.exists(graph_layer_folder):\n",
    "        os.makedirs(graph_layer_folder)\n",
    "        \n",
    "    for g_i, graph in enumerate(graphs):\n",
    "        fig_ax, name = graph\n",
    "        fig_ax[0].savefig(f'{graph_layer_folder}\\\\{name}.jpg') \n",
    "\n",
    "    "
   ]
  },
  {
   "cell_type": "code",
   "execution_count": 497,
   "id": "15844ca3",
   "metadata": {},
   "outputs": [],
   "source": [
    "def normalize(arra):\n",
    "    m = np.max(arra)\n",
    "    return [item/m for item in arra]\n",
    "    "
   ]
  },
  {
   "cell_type": "code",
   "execution_count": 498,
   "id": "f938f518",
   "metadata": {},
   "outputs": [
    {
     "data": {
      "text/plain": [
       "<matplotlib.collections.PathCollection at 0x1f965dcc1f0>"
      ]
     },
     "execution_count": 498,
     "metadata": {},
     "output_type": "execute_result"
    },
    {
     "data": {
      "image/png": "[encoded data removed]",
      "text/plain": [
       "<Figure size 432x288 with 1 Axes>"
      ]
     },
     "metadata": {
      "needs_background": "light"
     },
     "output_type": "display_data"
    }
   ],
   "source": [
    "plt.scatter([1, 2, 3, 4, 5, 6, 7, 8, 15, 18, 34, 8142], [9469, 245, 52, 15, 9, 2, 3, 1, 1, 1, 1, 1])"
   ]
  },
  {
   "cell_type": "code",
   "execution_count": 500,
   "id": "0ae69568",
   "metadata": {},
   "outputs": [
    {
     "name": "stdout",
     "output_type": "stream",
     "text": [
      "y (9469, 245, 52, 15, 9, 2, 3, 1, 1, 1, 1, 1)\n",
      "x (1, 2, 3, 4, 5, 6, 7, 8, 15, 18, 34, 8142)\n"
     ]
    },
    {
     "data": {
      "image/png": "[encoded data removed]",
      "text/plain": [
       "<Figure size 432x288 with 1 Axes>"
      ]
     },
     "metadata": {
      "needs_background": "light"
     },
     "output_type": "display_data"
    }
   ],
   "source": [
    "test = make_distribution_graph(analysis_dic[1][Properties.DIST_CC.value], '', True)"
   ]
  },
  {
   "cell_type": "code",
   "execution_count": 502,
   "id": "570a7fc5",
   "metadata": {},
   "outputs": [
    {
     "name": "stdout",
     "output_type": "stream",
     "text": [
      "y (8600, 5998, 1350, 649, 378, 266, 166, 118, 131, 96, 61, 69, 47, 51, 43, 38, 37, 35, 21, 25, 17, 23, 12, 14, 17, 10, 13, 10, 15, 7, 4, 3, 8, 4, 7, 4, 6, 9, 6, 6, 2, 1, 5, 3, 2, 3, 5, 2, 5, 5, 2, 2, 2, 3, 1, 3, 4, 1, 1, 2, 1, 2, 1, 1, 2, 3, 1, 4, 1, 1, 2, 1, 1, 1, 2, 1, 1, 1, 1, 1, 1, 1, 1, 1, 1, 1, 1, 1, 1, 1, 1, 1, 1)\n",
      "x (0, 1, 2, 3, 4, 5, 6, 7, 8, 9, 10, 11, 12, 13, 14, 15, 16, 17, 18, 19, 20, 21, 22, 23, 24, 25, 26, 27, 28, 29, 30, 31, 32, 33, 34, 35, 36, 37, 38, 39, 40, 41, 42, 43, 44, 45, 46, 47, 48, 49, 50, 51, 52, 54, 55, 56, 57, 58, 59, 60, 61, 62, 63, 64, 66, 68, 69, 71, 72, 74, 76, 78, 79, 83, 84, 85, 86, 87, 94, 97, 108, 117, 122, 128, 132, 133, 134, 138, 144, 171, 196, 223, 757)\n",
      "y (8600, 241, 44, 22, 5, 2, 2, 1, 1, 2, 1, 1)\n",
      "x (1, 2, 3, 4, 5, 6, 7, 8, 9, 10, 21, 9059)\n",
      "y (9469, 5021, 1370, 649, 404, 246, 197, 165, 105, 97, 68, 62, 70, 58, 43, 32, 29, 41, 22, 26, 15, 19, 18, 10, 20, 14, 12, 13, 3, 13, 9, 14, 11, 5, 6, 5, 4, 4, 5, 7, 4, 1, 3, 4, 5, 4, 5, 1, 3, 3, 3, 1, 1, 4, 2, 5, 5, 1, 1, 1, 2, 2, 2, 1, 1, 1, 2, 1, 1, 1, 1, 1, 1, 2, 1, 1, 1, 1, 1, 1, 1, 2, 1, 1, 1, 1)\n",
      "x (0, 1, 2, 3, 4, 5, 6, 7, 8, 9, 10, 11, 12, 13, 14, 15, 16, 17, 18, 19, 20, 21, 22, 23, 24, 25, 26, 27, 28, 29, 30, 31, 32, 33, 34, 35, 36, 38, 39, 40, 41, 42, 43, 44, 45, 46, 47, 48, 49, 50, 51, 52, 53, 55, 56, 57, 58, 59, 60, 61, 63, 65, 69, 70, 71, 73, 76, 77, 79, 80, 81, 83, 92, 93, 94, 97, 105, 108, 115, 119, 122, 124, 126, 137, 140, 187)\n",
      "y (9469, 245, 52, 15, 9, 2, 3, 1, 1, 1, 1, 1)\n",
      "x (1, 2, 3, 4, 5, 6, 7, 8, 15, 18, 34, 8142)\n",
      "y (9580, 5046, 1289, 601, 404, 272, 197, 151, 100, 95, 91, 65, 52, 45, 46, 35, 37, 32, 24, 19, 17, 21, 12, 13, 11, 16, 8, 9, 12, 11, 6, 8, 9, 8, 9, 4, 9, 2, 4, 4, 2, 6, 4, 5, 5, 3, 2, 1, 4, 2, 2, 3, 2, 3, 4, 2, 1, 2, 2, 2, 2, 1, 3, 1, 1, 1, 1, 2, 1, 1, 1, 1, 1, 2, 1, 1, 1, 1, 1, 1, 1, 2, 1, 1, 1, 1, 1, 1, 1, 1, 1, 1, 1)\n",
      "x (0, 1, 2, 3, 4, 5, 6, 7, 8, 9, 10, 11, 12, 13, 14, 15, 16, 17, 18, 19, 20, 21, 22, 23, 24, 25, 26, 27, 28, 29, 30, 31, 32, 33, 34, 35, 36, 37, 38, 39, 40, 41, 42, 43, 44, 45, 46, 47, 48, 49, 50, 51, 52, 53, 55, 56, 58, 60, 61, 62, 64, 65, 66, 67, 68, 69, 70, 72, 73, 74, 75, 76, 77, 84, 87, 91, 97, 98, 104, 109, 110, 113, 125, 128, 139, 140, 146, 149, 150, 164, 200, 209, 212)\n",
      "y (9580, 240, 38, 19, 7, 4, 2, 1, 2, 1, 1)\n",
      "x (1, 2, 3, 4, 5, 6, 7, 9, 10, 17, 8101)\n"
     ]
    },
    {
     "data": {
      "image/png": "[encoded data removed]",
      "text/plain": [
       "<Figure size 432x288 with 1 Axes>"
      ]
     },
     "metadata": {
      "needs_background": "light"
     },
     "output_type": "display_data"
    },
    {
     "data": {
      "image/png": "[encoded data removed]",
      "text/plain": [
       "<Figure size 432x288 with 1 Axes>"
      ]
     },
     "metadata": {
      "needs_background": "light"
     },
     "output_type": "display_data"
    },
    {
     "data": {
      "image/png": "[encoded data removed]",
      "text/plain": [
       "<Figure size 432x288 with 1 Axes>"
      ]
     },
     "metadata": {
      "needs_background": "light"
     },
     "output_type": "display_data"
    },
    {
     "data": {
      "image/png": "[encoded data removed]",
      "text/plain": [
       "<Figure size 432x288 with 1 Axes>"
      ]
     },
     "metadata": {
      "needs_background": "light"
     },
     "output_type": "display_data"
    },
    {
     "data": {
      "image/png": "[encoded data removed]",
      "text/plain": [
       "<Figure size 432x288 with 1 Axes>"
      ]
     },
     "metadata": {
      "needs_background": "light"
     },
     "output_type": "display_data"
    },
    {
     "data": {
      "image/png": "[encoded data removed]",
      "text/plain": [
       "<Figure size 432x288 with 1 Axes>"
      ]
     },
     "metadata": {
      "needs_background": "light"
     },
     "output_type": "display_data"
    }
   ],
   "source": [
    "dfs = []\n",
    "for k in analysis_dic.keys():\n",
    "    df = create_analysis_df(analysis_dic[k], k)\n",
    "    dist_degress = make_distribution_graph(analysis_dic[k][Properties.DIS_D.value], Properties.DIS_D.value)\n",
    "    dist_cc = make_distribution_graph(analysis_dic[k][Properties.DIST_CC.value], Properties.DIST_CC.value, True)\n",
    "    graphs = [(dist_degress, Properties.DIS_D.value), (dist_cc, Properties.DIST_CC.value)]\n",
    "    save_graphs(graphs, k)\n",
    "    dfs.append(df)\n",
    "    \n",
    "with pd.ExcelWriter(f'{PATH_TO_EXCELS}output.xlsx') as writer:  \n",
    "    for i, df in enumerate(dfs):\n",
    "        name = LAYER_LABELS[i]\n",
    "        df.to_excel(writer, sheet_name=name)"
   ]
  },
  {
   "cell_type": "code",
   "execution_count": 521,
   "id": "48498eec",
   "metadata": {},
   "outputs": [],
   "source": [
    "PATH_TO_TOGETHER_GRAPHS = f'{PATH_TO_GRAPHS}\\\\together'"
   ]
  },
  {
   "cell_type": "code",
   "execution_count": 551,
   "id": "22d8d119",
   "metadata": {},
   "outputs": [],
   "source": [
    "def get_cumulative(distribution_array):\n",
    "    sizes, times = zip(*distribution_array.items())\n",
    "    print(distribution_array)\n",
    "    suma = np.sum(times)\n",
    "    r_freq = [t/suma for t in times]\n",
    "    sizes = list(sizes) + [sizes[-1] + 1]\n",
    "    sizes = normalize(sizes)\n",
    "    \n",
    "    cum_freq = [0]\n",
    "    for f_i, f_v in enumerate(r_freq[0:len(r_freq)]):\n",
    "        cum_freq.append(cum_freq[f_i] + f_v)\n",
    "        \n",
    "    return sizes, cum_freq\n",
    "    \n",
    "    "
   ]
  },
  {
   "cell_type": "code",
   "execution_count": 559,
   "id": "9fe090ae",
   "metadata": {},
   "outputs": [],
   "source": [
    "#get_cumulative(analysis_dic[0][Properties.DIST_CC.value])"
   ]
  },
  {
   "cell_type": "code",
   "execution_count": null,
   "id": "fb6fd5f0",
   "metadata": {},
   "outputs": [],
   "source": [
    "def make_cumulative_distribution(analysis, key, true_names=False, save=True):\n",
    "    fig, ax = plt.subplots()\n",
    "    graph_title = f'Kumulativni {str(key).lower()}'\n",
    "    ax.set_title(graph_title)\n",
    "    ax.set_ylabel('Relative frequency')\n",
    "    ax.set_xlabel('Normalized size')\n",
    "    \n",
    "    for k in analysis:\n",
    "        name = LAYER_LABELS[k] if true_names else f'{k}'\n",
    "        current_analysis = analysis[k]\n",
    "        distribution_values = current_analysis[key]\n",
    "        result = get_cumulative(distribution_values)\n",
    "        ax.plot(*result, label=name)\n",
    "        \n",
    "      \n",
    "    ax.legend()\n",
    "    if save:\n",
    "        fig.savefig(f'{PATH_TO_TOGETHER_GRAPHS}\\\\cumulative_freq_{str(key).lower()}.jpg') \n",
    "        \n",
    "    return fig, ax\n",
    "    \n",
    "    \n",
    "    "
   ]
  },
  {
   "cell_type": "code",
   "execution_count": null,
   "id": "2ff5793c",
   "metadata": {},
   "outputs": [],
   "source": [
    "make_cumulative_distribution(analysis_dic, Properties.DIS_D.value)"
   ]
  },
  {
   "cell_type": "code",
   "execution_count": 575,
   "id": "3de3014a",
   "metadata": {},
   "outputs": [
    {
     "name": "stdout",
     "output_type": "stream",
     "text": [
      "{1: 8600, 2: 241, 3: 44, 4: 22, 5: 5, 6: 2, 7: 2, 8: 1, 9: 1, 10: 2, 21: 1, 9059: 1}\n",
      "{1: 9469, 2: 245, 3: 52, 4: 15, 5: 9, 6: 2, 7: 3, 8: 1, 15: 1, 18: 1, 34: 1, 8142: 1}\n",
      "{1: 9580, 2: 240, 3: 38, 4: 19, 5: 7, 6: 4, 7: 2, 9: 1, 10: 2, 17: 1, 8101: 1}\n"
     ]
    },
    {
     "data": {
      "text/plain": [
       "(<Figure size 432x288 with 1 Axes>,\n",
       " <AxesSubplot:title={'center':'Kumulativni distribuce velikostí komponent'}, xlabel='Normalized size', ylabel='Relative frequency'>)"
      ]
     },
     "execution_count": 575,
     "metadata": {},
     "output_type": "execute_result"
    },
    {
     "data": {
      "image/png": "[encoded data removed]",
      "text/plain": [
       "<Figure size 432x288 with 1 Axes>"
      ]
     },
     "metadata": {
      "needs_background": "light"
     },
     "output_type": "display_data"
    }
   ],
   "source": [
    "make_cumulative_distribution(analysis_dic, Properties.DIST_CC.value)"
   ]
  },
  {
   "cell_type": "code",
   "execution_count": 576,
   "id": "9abd2b9c",
   "metadata": {},
   "outputs": [],
   "source": [
    "PATH_SAVE_MULTILAYER_PROPERTIES = f'outputs\\\\multilayer\\\\'"
   ]
  },
  {
   "cell_type": "code",
   "execution_count": 577,
   "id": "f6465dc3",
   "metadata": {},
   "outputs": [],
   "source": [
    "PATH_R_MULTINET_LIB_INPUT = f'outputs\\\\r\\\\'"
   ]
  },
  {
   "cell_type": "code",
   "execution_count": 578,
   "id": "7c04cdd5",
   "metadata": {},
   "outputs": [],
   "source": [
    "NUMBER_OF_STEPS = 10 #random walk\n",
    "NUMBER_OF_TIMES = 100 #random walk\n",
    "MOVE_TO_LAYER = -99 #idk :D"
   ]
  },
  {
   "cell_type": "code",
   "execution_count": 592,
   "id": "4cfc7d23",
   "metadata": {},
   "outputs": [],
   "source": [
    "\n",
    "\n",
    "\n",
    "\n",
    "class MultiLevelNet:\n",
    "    def __init__(self, matrix, actors, layers, layers_name = None, calculate=False, lab=8):\n",
    "        self.lab = lab\n",
    "        size = int(len(matrix) / layers)\n",
    "        self.number_of_layers = layers\n",
    "        self.multi_net = self.create_matrix(matrix, layers)\n",
    "        self.actors = actors\n",
    "        self.aindex2actor = {i:actors[i] for i in range(len(actors))}\n",
    "        self.layers_name = layers_name\n",
    "        self.calculate = calculate\n",
    "\n",
    "        if self.calculate:\n",
    "            print('Running calculate section')\n",
    "            self.df = self.calculate_res_dataframe()\n",
    "            self.layer_df = self.calculate_layer_properties()\n",
    "            self.save_df(self.df, 'multilayer.csv')\n",
    "            self.save_df(self.layer_df, 'layer.csv')\n",
    "\n",
    "    def calculate_layer_properties(self):\n",
    "        d_result = {}\n",
    "        for l in range(self.number_of_layers):\n",
    "            l_n = self.layers_name[l]\n",
    "            l_res = {}\n",
    "\n",
    "            for i, a in enumerate(self.actors):\n",
    "                l_a_d = self.degree_centrality(i, [l])\n",
    "                excl_neig = self.exclusive_neighborhood(i, [l])\n",
    "                excl_rel = self.exclusive_relevance(i, [l])\n",
    "                l_res[self.aindex2actor[i]] = {'Degree': round(l_a_d, 3), 'Exclu. Nei': round(excl_neig, 3), 'Exclu. Rele': round(excl_rel, 3)} \n",
    "        \n",
    "            d_result[l_n] = l_res\n",
    "\n",
    "\n",
    "        properties = ['Degree','Exclu. Nei','Exclu. Rele']\n",
    "        header = pd.MultiIndex.from_product([self.layers_name,\n",
    "                                            properties],\n",
    "                                            names=['Layer name','Property'])\n",
    "\n",
    "\n",
    "        columns=['Degree deviation', 'Degree', 'Neighbors', 'Connective redudancy']\n",
    "        data = np.zeros((len(self.actors), 3 * self.number_of_layers), dtype='uint8')\n",
    "\n",
    "        for i, k_i in enumerate(d_result.keys()): #layers as key\n",
    "            for j, prop in enumerate(properties):\n",
    "                constructed_array = []\n",
    "                for _, k_j in enumerate(d_result[k_i].keys()): #actors as key\n",
    "                    value = d_result[k_i][k_j][prop]\n",
    "                    constructed_array.append(value)\n",
    "                position = i * len(properties) + j\n",
    "                data[:, position] = constructed_array    \n",
    "            \n",
    "        df = pd.DataFrame(data, columns=header, index=self.actors)\n",
    "        return df\n",
    "\n",
    "    def exclusive_relevance(self, actor, L):\n",
    "        nom = self.exclusive_neighborhood(actor, L)\n",
    "        den = self.neighborhood_centrality(actor,self.generate_all())\n",
    "        if den == 0:\n",
    "            return 0\n",
    "        return nom / den\n",
    "\n",
    "\n",
    "    def calculate_res_dataframe(self):\n",
    "        d_res = []\n",
    "        d_c_res = []\n",
    "        neighborhood_res = []\n",
    "        redudancy_res = []\n",
    "\n",
    "        for i, a in enumerate(self.actors):\n",
    "            \n",
    "            L = list(range(self.number_of_layers))\n",
    "            d = self.degree_centrality(i, L)\n",
    "            d_c = self.degree_deviation(i, L)\n",
    "            neighborhood = self.neighborhood_centrality(i, L)\n",
    "            redudancy = self.connective_redundancy(i, L)            \n",
    "\n",
    "\n",
    "\n",
    "            d_res.append(d)\n",
    "            d_c_res.append(round(d_c, 3))\n",
    "            neighborhood_res.append(neighborhood)\n",
    "            redudancy_res.append(round(redudancy, 3))\n",
    "\n",
    "\n",
    "        columns=['Degree deviation', 'Degree', 'Neighbors', 'Connective redudancy']\n",
    "        df = pd.DataFrame({columns[0]: d_c_res, columns[1]: d_res, columns[2]: neighborhood_res, columns[3]: redudancy_res},index=self.actors)\n",
    "        return df\n",
    "\n",
    "    def save_df(self, df, name):\n",
    "        df.to_csv(f'{PATH_SAVE_MULTILAYER_PROPERTIES}{name}', sep=';')\n",
    "\n",
    "\n",
    "    def create_matrix(self, matrix, layers):\n",
    "        full_size = len(matrix)\n",
    "        layer_size = int(full_size / layers)\n",
    "        self.layer_size = layer_size \n",
    "\n",
    "        metricies = np.zeros((layer_size, layer_size, layers), dtype='uint8')    \n",
    "        for i in range(layers):            \n",
    "            f = layer_size*i\n",
    "            t = layer_size*(i+1)\n",
    "            layer_matrix = matrix[f:t]\n",
    "            metricies[:, :, i] = layer_matrix\n",
    "\n",
    "        if(not np.all(metricies[0, :, 0] == matrix[0, :])):\n",
    "            raise Exception(\"Preprocessing was not correct\")\n",
    "\n",
    "        return metricies\n",
    "\n",
    "    def degree_centrality(self, actor, L):\n",
    "        sum_matrix = np.sum(self.multi_net[:, :, L], axis=-1)\n",
    "        actor_vector = sum_matrix[actor, :]\n",
    "        degree = int(np.sum(actor_vector))\n",
    "        return degree\n",
    "\n",
    "    def degree_deviation(self, actor, L):\n",
    "        same = self.degree_centrality(actor, L) / len(L)\n",
    "        s = 0\n",
    "        for l in L:\n",
    "            l_c = self.degree_centrality(actor, [l])\n",
    "            # print(l_c)\n",
    "            calc = pow(l_c - same, 2)\n",
    "            s += calc\n",
    "        res = s / len(L) \n",
    "        return math.sqrt(res)\n",
    "\n",
    "    def generate_all(self):\n",
    "        return list(range(self.number_of_layers))\n",
    "\n",
    "    def neighbors(self, actor, L=None):\n",
    "        L = L\n",
    "        if L is None:\n",
    "            L = self.generate_all()\n",
    "\n",
    "        sum_matrix = np.sum(self.multi_net[:, :, L], axis=-1)\n",
    "        actor_vector = sum_matrix[actor, :]\n",
    "        neighbors = np.argwhere(actor_vector > 0)\n",
    "        return neighbors.flatten()\n",
    "\n",
    "    def neighborhood_centrality(self, actor, L):\n",
    "        return len(self.neighbors(actor, L))\n",
    "\n",
    "    def connective_redundancy(self, actor, L):\n",
    "        nom = self.neighborhood_centrality(actor, L)\n",
    "        den = self.degree_centrality(actor, L)\n",
    "        x = 0\n",
    "        if den != 0:\n",
    "            x = nom / den  \n",
    "        return 1 - x\n",
    "        \n",
    "    def exclusive_neighborhood(self, actor, L):\n",
    "        xneighborhood = 0\n",
    "        first = self.neighbors(actor, L)\n",
    "        al = set(self.generate_all())\n",
    "        i = set(L)\n",
    "        res = al.difference(i)\n",
    "        second = self.neighbors(actor, list(res))\n",
    "        xneighborhood = set(first).difference(set(second))\n",
    "        return len(list(xneighborhood))\n",
    "\n",
    "\n",
    "    def flattening(self):\n",
    "        flat_net = np.zeros((self.layer_size, self.layer_size), dtype='uint8')\n",
    "        for x in range(self.layer_size):\n",
    "            for y in range(self.layer_size):\n",
    "                res = np.sum(self.multi_net[x, y, :])                \n",
    "                flat_net[x, y] = 1 if res > 0 else 0\n",
    "        print(pd.DataFrame(flat_net))\n",
    "\n",
    "\n",
    "    def random_walk(self, v_start, l_start, all_layers, number_of_steps):\n",
    "        history = [] #((v, l), (v, l)) ((from), (to))\n",
    "        current_vertex = v_start #actor\n",
    "        current_layer = l_start\n",
    "\n",
    "\n",
    "     \n",
    "        for step in range(number_of_steps):\n",
    "\n",
    "            f = (current_vertex, current_layer)\n",
    "\n",
    "            n = list(self.neighbors(current_vertex, [current_layer]))\n",
    "            n.append(MOVE_TO_LAYER)\n",
    "            choice = random.choice(n)\n",
    "\n",
    "            if choice == MOVE_TO_LAYER:\n",
    "                rem_layers = list(filter(lambda x: x != current_layer, all_layers))\n",
    "                choice_layer = random.choice(rem_layers) \n",
    "                current_layer = choice_layer\n",
    "                # print('move to another layer')\n",
    "            else:\n",
    "                current_vertex = choice\n",
    "                # print('move to another vertex')\n",
    "            # print(n)\n",
    "\n",
    "            t = (current_vertex, current_layer)\n",
    "\n",
    "            history.append((f, t))\n",
    "        \n",
    "        return history\n",
    "\n",
    "\n",
    "    def resolve_ava_layers(self, actor_index):\n",
    "        return self.generate_all()\n",
    "\n",
    "\n",
    "    def occupation_centrality(self, walks, number_of_times = NUMBER_OF_TIMES):\n",
    "        occupation_centrality_res = {actor_i: 0 for actor_i in walks.keys()}        \n",
    "        for actor_i in walks.keys():\n",
    "            init_actor_walks = walks[actor_i]\n",
    "            for walk_history in init_actor_walks:\n",
    "                start = walk_history[0][0][0]\n",
    "                end = walk_history[-1][1][0]\n",
    "                occupation_centrality_res[end] += 1\n",
    "\n",
    "\n",
    "        calculated = {actor_i:(occupation_centrality_res[actor_i]/(number_of_times*len(list(walks.keys())))) for actor_i, times in occupation_centrality_res.items()}\n",
    "\n",
    "        return occupation_centrality_res, calculated\n",
    "\n",
    "\n",
    "    def make_random_walks(self, number_of_steps = NUMBER_OF_STEPS, number_of_times = NUMBER_OF_TIMES):\n",
    "        actors = list(range(len(self.actors)))\n",
    "        # actors = [0]\n",
    "        # print(actors)\n",
    "        walks = {}\n",
    "        for actor_index in actors:\n",
    "            walks[actor_index] = []\n",
    "            layers_to_start = self.resolve_ava_layers(actor_index)\n",
    "            for walk_index in range(number_of_times):\n",
    "                start_layer = random.choice(layers_to_start)\n",
    "                random_walk_history = self.random_walk(actor_index, start_layer, layers_to_start, number_of_steps)\n",
    "                walks[actor_index].append(random_walk_history)\n",
    "\n",
    "        return self.occupation_centrality(walks)\n",
    "\n",
    "\n",
    "    def save_net_for_r(self):\n",
    "        output = f\"#VERSION\\n3.0\\n#TYPE\\nmultiplex\\n#EDGES\"\n",
    "\n",
    "        for n_l in range(self.number_of_layers):\n",
    "            layer_name = self.layers_name[n_l]\n",
    "            for a_y_i, y in enumerate(self.multi_net[:, :, n_l]):\n",
    "                from_actor = self.aindex2actor[a_y_i]\n",
    "                for a_x_i, x in enumerate(y):\n",
    "                    if x == 1:\n",
    "                        to_actor = self.aindex2actor[a_x_i]\n",
    "                        output += f'\\n{from_actor},{to_actor},{layer_name}'\n",
    "\n",
    "        with open(f'{PATH_R_MULTINET_LIB_INPUT}multinet.mpx', 'w') as file:\n",
    "            file.write(output)\n",
    "        "
   ]
  },
  {
   "cell_type": "code",
   "execution_count": 593,
   "id": "8419f903",
   "metadata": {},
   "outputs": [
    {
     "name": "stdout",
     "output_type": "stream",
     "text": [
      "0\n",
      "2\n"
     ]
    }
   ],
   "source": [
    "matrix_all = None\n",
    "i = 0\n",
    "while i < (len(Gs)):\n",
    "    print(i)\n",
    "    if i == 0:\n",
    "        # 0  1\n",
    "        matrix_all = np.vstack((nx.to_numpy_matrix(Gs[i], dtype='uint8'), nx.to_numpy_matrix(Gs[i+1], dtype='uint8')))\n",
    "        i += 1\n",
    "    else:\n",
    "         matrix_all = np.vstack((matrix_all, nx.to_numpy_matrix(Gs[i], dtype=int)))\n",
    "        # x 2\n",
    "    i += 1"
   ]
  },
  {
   "cell_type": "code",
   "execution_count": 594,
   "id": "03002071",
   "metadata": {},
   "outputs": [],
   "source": [
    "LABELS = list(Gs[0].nodes()) #names of actors"
   ]
  },
  {
   "cell_type": "code",
   "execution_count": null,
   "id": "565a653d",
   "metadata": {},
   "outputs": [
    {
     "name": "stdout",
     "output_type": "stream",
     "text": [
      "Running calculate section\n"
     ]
    }
   ],
   "source": [
    "ml_net = MultiLevelNet(matrix_all, LABELS, NUMBER_OF_LAYERS, LAYER_LABELS, True)"
   ]
  },
  {
   "cell_type": "code",
   "execution_count": null,
   "id": "f4a14eb5",
   "metadata": {},
   "outputs": [],
   "source": [
    "ml_net.save_net_for_r()"
   ]
  }
 ],
 "metadata": {
  "kernelspec": {
   "display_name": "Python 3",
   "language": "python",
   "name": "python3"
  },
  "language_info": {
   "codemirror_mode": {
    "name": "ipython",
    "version": 3
   },
   "file_extension": ".py",
   "mimetype": "text/x-python",
   "name": "python",
   "nbconvert_exporter": "python",
   "pygments_lexer": "ipython3",
   "version": "3.8.1"
  }
 },
 "nbformat": 4,
 "nbformat_minor": 5
}
